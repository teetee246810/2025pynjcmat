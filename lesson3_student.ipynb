{
  "cells": [
    {
      "cell_type": "markdown",
      "metadata": {
        "id": "p9AnMgkz8vl2"
      },
      "source": [
        "[![Open In Colab](https://colab.research.google.com/assets/colab-badge.svg)](https://colab.research.google.com/drive/1y4I6iIIGsKNZMP4JoElX1qimxv-PywYA#scrollTo=6fnyzkNQLLSg)"
      ]
    },
    {
      "cell_type": "markdown",
      "metadata": {
        "id": "Vu3q2Db8wA_g"
      },
      "source": [
        "# Programming Construct: Selection"
      ]
    },
    {
      "cell_type": "markdown",
      "metadata": {
        "id": "Q374pe38wA_m"
      },
      "source": [
        "Selection statements allow your program to make decisions based on specific conditions. The most common selection statement is the `if` statement, which checks whether a condition is true and executes code accordingly. In mathematics, this is analogous to testing hypotheses or evaluating logical expressions.\n",
        "\n",
        "With the selection programming construct, a query/condition is evaluated. Depending on its result, the program will take one of two/more possible courses of action. As such, the selection construct is typically referred to as an `if-else` statement (or `if` statement for short), which selects different sets of statements to execute.\n",
        "\n",
        "#### Example\n",
        "```text\n",
        "INPUT x\n",
        "IF x ≥ 50\n",
        "   THEN\n",
        "       OUTPUT “PASS”\n",
        "       OUTPUT “Well done!”\n",
        "   ELSE\n",
        "       OUTPUT “FAIL”\n",
        "       OUTPUT “Please try harder.”\n",
        "ENDIF\n",
        "```\n",
        "\n",
        "It should be noted that it is common practice to indent the statements within the `if` or `else` parts of an `if` statement so that it is easier to read the code.\n",
        "\n",
        "Finally, it should also be noted that `if` statements may be nested, i.e., the statements in the `if` or `else` parts may themselves include another `if` statement.\n",
        "\n",
        "In Python, the `if` block follows the structure below:\n",
        "\n",
        "```python\n",
        "if <condition_1>:\n",
        "   <action_1>\n",
        "elif <condition_1>:\n",
        "   <action_2>\n",
        "else:\n",
        "   <action_3>\n",
        "```\n",
        "\n",
        "#### Example\n",
        "Write a code that ask for an user input and determine if a number is positive, negative, or zero."
      ]
    },
    {
      "cell_type": "code",
      "execution_count": null,
      "metadata": {
        "id": "HOCRnkRWwA_q"
      },
      "outputs": [],
      "source": [
        "num = input('Please enter a number:')\n",
        "\n",
        "num = float(num)\n",
        "\n",
        "if num > 0:\n",
        "    print(\"The number is positive.\")\n",
        "elif num < 0:\n",
        "    print(\"The number is negative.\")\n",
        "else:\n",
        "    print(\"The number is zero.\")"
      ]
    },
    {
      "cell_type": "markdown",
      "metadata": {
        "id": "4jtWlZdZwA_t"
      },
      "source": [
        "In mathematics, we encounter this either of choice in various situations. One of which is in the definition of an absolute value $\\mid x \\mid$ of a real number $x$.\n",
        "\n",
        "Recall that the modulus function $\\left|\\right|:\\mathbb{R}\\longrightarrow\\mathbb{R}$ is defined as\n",
        "\n",
        "$$\\left|x\\right|=\\begin{cases}\n",
        "x & ,\\,\\text{if }x\\geq0\\\\\n",
        "-x & ,\\,\\text{otherwise}\n",
        "\\end{cases}$$\n",
        "\n",
        "#### Example\n",
        "Write a function `my_abs()` that takes in a float parameter $x$ and return the absolute value of $x$."
      ]
    },
    {
      "cell_type": "code",
      "execution_count": null,
      "metadata": {
        "id": "z0lrNWqdwA_u",
        "outputId": "cc67f285-0d9c-4dba-f184-304ba42730d5"
      },
      "outputs": [
        {
          "name": "stdout",
          "output_type": "stream",
          "text": [
            "5\n",
            "5\n"
          ]
        }
      ],
      "source": [
        "def my_abs(x):\n",
        "    if x >= 0:\n",
        "        return x\n",
        "    elif x < 0:\n",
        "        return -x\n",
        "\n",
        "print(my_abs(5))\n",
        "print(my_abs(-5))"
      ]
    },
    {
      "cell_type": "markdown",
      "metadata": {
        "id": "Wrdf3S4vwA_v"
      },
      "source": [
        "##### Exercise\n",
        "Write a function `odd_even_check()` that:\n",
        "- takes in an integer $n$ as a parameter,\n",
        "- output out the string `'{n} is even!'` if $n$ is even,\n",
        "- output out the string `'{n} is even!'` if $n$ is odd,\\\n",
        "where `{n}` should be replaced by the input parameter $n$."
      ]
    },
    {
      "cell_type": "code",
      "execution_count": null,
      "metadata": {
        "id": "rzi327WawA_x"
      },
      "outputs": [],
      "source": [
        "# YOUR_CODE_HERE"
      ]
    },
    {
      "cell_type": "markdown",
      "metadata": {
        "id": "1zigH8sfwA_y"
      },
      "source": [
        "##### Exercise\n",
        "Two simultaneous linear equations of the form\n",
        "$$\\begin{align*}\n",
        "y\t&=m_{1}x+c_{1}\\\\\n",
        "y\t&=m_{2}x+c_{2}\n",
        "\\end{align*}$$\n",
        "is given.\n",
        "\n",
        "Write a function `simul_solver()` that:\n",
        "- takes in 2 list parameters, each containing 2 float values, $[m_1, c_1]$, $[m_2, c_2]$ which represents the associated coefficients in the defined simultaneous linear equations above\n",
        "- output the solution(s) to the simultaneous equations if it/they exist\n",
        "\n",
        "Hint: You can refer to the flowchart in the JH notes."
      ]
    },
    {
      "cell_type": "code",
      "execution_count": null,
      "metadata": {
        "id": "ZIv8EbQvwA_z"
      },
      "outputs": [],
      "source": [
        "# YOUR_CODE_HERE"
      ]
    },
    {
      "cell_type": "markdown",
      "metadata": {
        "id": "zHwiXiTNwA_0"
      },
      "source": [
        "#### Exercise\n",
        "The quadratic equation with real coefficients of the form\n",
        "\n",
        "$$ax^2+ bx+c=0$$\n",
        "\n",
        "is given.\n",
        "\n",
        "Write a function `root_nature()` that:\n",
        "- takes in 3 float parameters $a$, $b$, $c$ that represents the coefficients in the quadratic equation given above\n",
        "- calculate the discriminant of the quadratic equation\n",
        "- output a notification of the number of real roots of the quadratic equation."
      ]
    },
    {
      "cell_type": "code",
      "execution_count": null,
      "metadata": {
        "id": "J9qLtmcdwA_0"
      },
      "outputs": [],
      "source": [
        "# YOUR_CODE_HERE"
      ]
    },
    {
      "cell_type": "markdown",
      "metadata": {
        "id": "IdVxtxxewA_1"
      },
      "source": [
        "#### Exercise\n",
        "The coordinates of 2 points on the $xy$-plane are $(a,b)$ and $(p,q)$ respectively.\n",
        "\n",
        "Write a function `line_equation()` that:\n",
        "- takes in 2 list parameters, each containing 2 float values, $[a, b]$, $[p, q]$ which represents the coordinates of the 2 points defined above\n",
        "- output the equation of the line."
      ]
    },
    {
      "cell_type": "code",
      "execution_count": null,
      "metadata": {
        "id": "nj2YI3U-wA_1"
      },
      "outputs": [],
      "source": [
        "# YOUR_CODE_HERE"
      ]
    },
    {
      "cell_type": "markdown",
      "metadata": {
        "id": "OHDkGCrAwA_2"
      },
      "source": [
        "#### Example\n",
        "Write a **function** named `main` that:\n",
        "- takes in no a parameter\n",
        "- asks user to input a float value $r$\n",
        "- if $r$ is even, output the string '{r} is even!',\n",
        "- if $r$ is odd, output the string '{r} is odd!',\n",
        "\n",
        "where `{r}` should correspond to the input integer $r$."
      ]
    },
    {
      "cell_type": "code",
      "execution_count": null,
      "metadata": {
        "id": "fga7GO7hwA_2"
      },
      "outputs": [],
      "source": [
        "# YOUR_CODE_HERE"
      ]
    },
    {
      "cell_type": "markdown",
      "metadata": {
        "id": "WkyqgtslwA_3"
      },
      "source": [
        "# Programming Construct: Iteration\n",
        "Iteration in programming refers to the process of repeatedly executing a block of code until a specific condition is met or for a predetermined number of times. This repetitive action allows programmers to automate tasks that would otherwise require manual repetition. We will study two types of loops, the `for` loops and the `while` loops.\n",
        "\n",
        "## `for` Loop\n",
        "The `for` loop in Python is a powerful construct for iterating over sequences such as lists or ranges. It is usually employed when the number of repetitions is known beforehand, as in iterating over elements in a collection or range.\n",
        "\n",
        "If $L$ is a list, `for` loop can be invoked with the following syntax\n",
        "\n",
        "```python\n",
        "for x in L:\n",
        "   <code_block_to_repeat>\n",
        "```\n",
        "\n",
        "where $x$ is a just a placeholder identifier. You can use other identifier names of your liking.\n",
        "\n",
        "#### Example\n",
        "Write a program to output the content of the list\n",
        "\n",
        "```python\n",
        "my_list = [1, 'hello', 3.5, True]\n",
        "```"
      ]
    },
    {
      "cell_type": "code",
      "execution_count": null,
      "metadata": {
        "colab": {
          "base_uri": "https://localhost:8080/"
        },
        "id": "GjWXUUkcwA_3",
        "outputId": "397a5cc0-2b13-4131-801f-5c7b48812dd5"
      },
      "outputs": [
        {
          "name": "stdout",
          "output_type": "stream",
          "text": [
            "1\n",
            "hello\n",
            "3.5\n",
            "True\n"
          ]
        }
      ],
      "source": [
        "my_list = [1, 'hello', 3.5, True]\n",
        "\n",
        "for i in my_list:\n",
        "    print(i)"
      ]
    },
    {
      "cell_type": "markdown",
      "metadata": {
        "id": "_SfA0EwFwA_3"
      },
      "source": [
        "#### Example\n",
        "Write a function `my_for_sum()` that:\n",
        "- takes in an integer $n$\n",
        "- uses a `for` loop\n",
        "- return the sum of the first $n$ natural numbers."
      ]
    },
    {
      "cell_type": "code",
      "execution_count": null,
      "metadata": {
        "id": "Ijtdz_oxwA_4",
        "outputId": "06ccc7cc-b3b2-4712-e337-1f58c3d646ec"
      },
      "outputs": [
        {
          "name": "stdout",
          "output_type": "stream",
          "text": [
            "5050\n"
          ]
        }
      ],
      "source": [
        "def my_for_sum(n):\n",
        "    tot = 0\n",
        "    for i in range(1, n + 1):\n",
        "        tot = tot + i\n",
        "    return tot"
      ]
    },
    {
      "cell_type": "markdown",
      "metadata": {
        "id": "N1Ypg1UuwA_4"
      },
      "source": [
        "#### Exercise\n",
        "Write a function `main()` that:\n",
        "- takes in an integer $n$\n",
        "- output all the integers between $1$ and $n$ inclusive using a `for` loop."
      ]
    },
    {
      "cell_type": "code",
      "execution_count": null,
      "metadata": {
        "id": "XPuVc8U6wA_4"
      },
      "outputs": [],
      "source": [
        "# YOUR_CODE_HERE"
      ]
    },
    {
      "cell_type": "markdown",
      "metadata": {
        "id": "4VF78AXgwA_4"
      },
      "source": [
        "#### Exercise\n",
        "Write a function `hcf_book()` that:\n",
        "- takes in two integers $a$ and $b$\n",
        "- uses `for` loop to compute the highest common factor of $a$ and $b$\n",
        "- output `'The highest common factor of {a} and {b} is {hcf_a_b}'` where `{a}`, `{b}` and `{hcf_a_b}` should be substituted with the values of $a$, $b$ and $hcf(a,b)$ respectively."
      ]
    },
    {
      "cell_type": "code",
      "execution_count": null,
      "metadata": {
        "colab": {
          "base_uri": "https://localhost:8080/"
        },
        "id": "rD-U-os9wA_5",
        "outputId": "0f865f50-ad73-4815-d9b9-2748e97ec5dd"
      },
      "outputs": [
        {
          "name": "stdout",
          "output_type": "stream",
          "text": [
            "80\n"
          ]
        }
      ],
      "source": [
        "# YOUR_CODE_HERE\n"
      ]
    },
    {
      "cell_type": "markdown",
      "metadata": {
        "id": "RdfhjeK-wA_5"
      },
      "source": [
        "## `while` loop\n",
        "The other type of loop is the `while` loop. In the event when the number of repetitions is not known or when we know that the repetition is done only when a certain specific condition is met, `while` loop is preferred. This type  loop continues until a specific condition is satisfied.\n",
        "\n",
        "If $P$ is a condition to be met, `while` loop can be used with the following syntax\n",
        "\n",
        "```python\n",
        "while <condition_P>:\n",
        "   <code_block_to_repeat>\n",
        "```"
      ]
    },
    {
      "cell_type": "markdown",
      "metadata": {
        "id": "vuN3FslCwA_5"
      },
      "source": [
        "#### Example\n",
        "Write a function `my_while_sum()` that:\n",
        "- takes in an integer $n$\n",
        "- uses a `while` loop to calculate the sum of the first $n$ natural numbers\n",
        "- return the sum."
      ]
    },
    {
      "cell_type": "code",
      "execution_count": null,
      "metadata": {
        "id": "E68a6kbWwA_5",
        "outputId": "8040968e-20e0-4561-bfc9-22a04af78087"
      },
      "outputs": [
        {
          "name": "stdout",
          "output_type": "stream",
          "text": [
            "5050\n"
          ]
        }
      ],
      "source": [
        "def my_while_sum(n):\n",
        "    i = 1\n",
        "    tot = 0\n",
        "    while i <= n:\n",
        "        tot = tot + i\n",
        "        i = i + 1\n",
        "    return tot\n",
        "\n",
        "print(my_while_sum(100))"
      ]
    },
    {
      "cell_type": "markdown",
      "metadata": {
        "id": "wH6Gvr7nwA_6"
      },
      "source": [
        "#### Exercise\n",
        "Write a function `main()` that:\n",
        "- takes in an integer $n$\n",
        "- output all the integers between $1$ and $n$ inclusive using a `while` loop."
      ]
    },
    {
      "cell_type": "code",
      "execution_count": null,
      "metadata": {
        "id": "ggoqPJXgwA_6"
      },
      "outputs": [],
      "source": [
        "# YOUR_CODE_HERE\n"
      ]
    },
    {
      "cell_type": "markdown",
      "metadata": {
        "id": "hPqXzZRswA_7"
      },
      "source": [
        "#### Exercise\n",
        "The geometric mean of list of $n$ values is defined to be the $n$ th root of the product of all the $n$ values, i.e. if the list of values is $L$, the geometric mean of $L$ is\n",
        "\n",
        "$$\\left(\\prod_{p\\in L}p\\right)^{\\frac{1}{\\left|L\\right|}}.$$\n",
        "\n",
        "Write a function `geo_mean()` that takes in a list of values and returns the geometric mean of the values."
      ]
    },
    {
      "cell_type": "code",
      "execution_count": null,
      "metadata": {
        "id": "f0obS202wA_7"
      },
      "outputs": [],
      "source": [
        "# YOUR_CODE_HERE\n"
      ]
    },
    {
      "cell_type": "markdown",
      "metadata": {
        "id": "VWWkkMKnwA_7"
      },
      "source": [
        "#### Exercise\n",
        "Consider the following game. Starting with \\$1$, you can either double your money or add another \\$1 with each move.\n",
        "\n",
        "Write a function `doubler_count()` that:\n",
        "- takes in a float parameter $x$,\n",
        "- calculate the smallest number of moves that is required to get to \\$x\n",
        "- output `It will take a minimum of {n} steps to reach ${x}` where {n} and {x} should be substituted with the corresponding values of $n$ and $x$.\n",
        "\n",
        "Hint: You can refer to the flowchart in the JH book."
      ]
    },
    {
      "cell_type": "code",
      "execution_count": null,
      "metadata": {
        "id": "B8Ah77RcwA_7"
      },
      "outputs": [],
      "source": [
        "# YOUR_CODE_HERE\n",
        "\n"
      ]
    },
    {
      "cell_type": "markdown",
      "metadata": {
        "id": "6fnyzkNQLLSg"
      },
      "source": [
        "####Exercise\n",
        "\n",
        "The Ladder method is an alternative way to get the highest common factor of two integers  a  and  b .\n",
        "\n",
        "Write a function `hcf_ladder_njc()` that:\n",
        "\n",
        "takes in two integer parameters  a  and  b ,\n",
        "uses while loop to implement Ladder method to compute the highest common factor of  a  and  b\n",
        "output `The highest common factor of {a} and {b} is {hcf_a_b}` where `{a}`, `{b}` and `{hcf_a_b}` should be substituted with the values of  a ,  b  and hcf (a,b)  respectively.\n",
        "\n",
        "You can refer to the flowcharts to help you.\n",
        "\n",
        "*   [Flowchart 1](https://github.com/teetee246810/2025pynjcmat/blob/main/flowcharts%20from%20textbook/hcf_1.jpg) and [Flowchart 2](https://github.com/teetee246810/2025pynjcmat/blob/main/flowcharts%20from%20textbook/hcf_2.jpg) are from the textbook.\n",
        "*   [Flowchart 1](https://drive.google.com/file/d/1F_04uORqVnh6h36AXmfzpwLSBBUemlxG/view?usp=sharing) generated from Mermaid."
      ]
    },
    {
      "cell_type": "code",
      "execution_count": null,
      "metadata": {
        "colab": {
          "base_uri": "https://localhost:8080/"
        },
        "id": "Rk1Cjv17B_dt",
        "outputId": "6bd27720-52e2-4691-c707-9e19e1edbd9e"
      },
      "outputs": [
        {
          "name": "stdout",
          "output_type": "stream",
          "text": [
            "the hcf of 150 and 150 is 150\n"
          ]
        }
      ],
      "source": [
        "#YOUR_CODE_HERE"
      ]
    },
    {
      "cell_type": "markdown",
      "metadata": {
        "id": "iiyoeElTwA_8"
      },
      "source": [
        "#### Exercise\n",
        "Let $k$ be a positive integer, and consider the sequence\n",
        "\n",
        "$$x_{n}=\\frac{n^{k}}{n!},\\,\\,n=1,2,3,\\cdots$$\n",
        "\n",
        "Find, in terms of $k$, the smallest value of $n$ for which $x_{n}<1$."
      ]
    },
    {
      "cell_type": "code",
      "execution_count": null,
      "metadata": {
        "id": "CuNtsXTZwA_8"
      },
      "outputs": [],
      "source": [
        "# YOUR_CODE_HERE"
      ]
    },
    {
      "cell_type": "markdown",
      "metadata": {
        "id": "33l8sjhkwA_9"
      },
      "source": [
        "We have actually used `for` loop and `if` before these 2 sections when we're creating lists with list comprehension."
      ]
    },
    {
      "cell_type": "markdown",
      "metadata": {
        "id": "EiyWwb24XPp5"
      },
      "source": [
        "#### Exercise\n",
        "Generate the Hailstone sequence (Collatz conjecture)."
      ]
    },
    {
      "cell_type": "code",
      "execution_count": null,
      "metadata": {
        "id": "KtlEEOVvXVyJ"
      },
      "outputs": [],
      "source": [
        "#YOUR_CODE_HERE"
      ]
    }
  ],
  "metadata": {
    "colab": {
      "provenance": []
    },
    "kernelspec": {
      "display_name": "Python 3",
      "language": "python",
      "name": "python3"
    },
    "language_info": {
      "codemirror_mode": {
        "name": "ipython",
        "version": 3
      },
      "file_extension": ".py",
      "mimetype": "text/x-python",
      "name": "python",
      "nbconvert_exporter": "python",
      "pygments_lexer": "ipython3",
      "version": "3.12.1"
    }
  },
  "nbformat": 4,
  "nbformat_minor": 0
}