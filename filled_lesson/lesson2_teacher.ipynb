{
 "cells": [
  {
   "cell_type": "markdown",
   "metadata": {
    "id": "fjygimId7zze"
   },
   "source": [
    "[![Open In Colab](https://colab.research.google.com/assets/colab-badge.svg)](https://colab.research.google.com/github/teetee246810/2025pynjcmat/blob/main/filled_lesson/lesson2_teacher.ipynb)"
   ]
  },
  {
   "cell_type": "markdown",
   "metadata": {
    "id": "Lw9ZKtjDrCZh"
   },
   "source": [
    "# Function\n",
    "\n",
    "In computing, a function corresponds to a sequence of steps that is given an identifier and returns a single value; a function call must be part of an expression (since it returns a value).\n",
    "\n",
    "This notion of function is similar to the mathematical function with some differences that we would mention later.\n",
    "\n",
    "## Declaring and Calling a Function\n",
    "\n",
    "In order to define a function in Python, we must first declare it. A function declaration consists of a function name followed by a routine body. The routine body is the statement block.\n",
    "\n",
    "The following is an example in pseudocode.\n",
    "\n",
    ">```text\n",
    ">1 FUNCTION square(n : INTEGER) : INTEGER\n",
    ">2    result ← n * n\n",
    ">3    RETURN result\n",
    ">4 ENDFUNCTION\n",
    ">```\n",
    "\n",
    "From the above example, we notice that the function declaration includes:\n",
    "\n",
    "- The identifier or name of the function (i.e., `square`)\n",
    "- The parameter(s) (i.e., input variable(s)) for the function (i.e., the single input variable `n : INTEGER`)\n",
    "\n",
    "Correspondingly, the function body contains:\n",
    "\n",
    "- The various statements that define what the function does (i.e., each line after the function header/interface)\n",
    "- A statement that gives the function a value to return (i.e., the `return result` statement on the last line)\n",
    "\n",
    "Essentially, when we define a function, we use an ordered list of variables, termed **parameters**, to be supplied into the function. E.g., `n` is a parameter in the example above.\n",
    "\n",
    "When the function is called with an actual input, the input is called an **argument**, i.e., the arguments supplied are assigned to the corresponding parameter of the routine. Do note the order of the parameters in the parameter list must be the same as the order in the list of arguments. Using our example above, in the expression `square(2)`, `2` is the argument.\n",
    "\n",
    "When an executed program gets to the statement that includes a function call as part of the expression, the function is executed. The value returned from this function call is then used in the expression. Thus, with the above line of code, the result of the `square(2)` function call is assigned to the variable `result`.\n",
    "\n",
    "In Python, we declare a function with the following syntax:\n",
    "\n",
    ">```python\n",
    ">def function_name(parameters):\n",
    ">\tstatement/statements\n",
    ">   return some_value\n",
    ">```\n",
    "\n",
    "* Keyword `def` marks the start of a function.\n",
    "* Every function has an user defined name as unique identifier. In the example above it's `function_name`\n",
    "* It takes in values, known as **parameters**, before running the code block.\n",
    "* It may return value as a result using `return` statement.\n",
    "    * If no `return` statement, the function will return the `None` data type at the end of the function.\n",
    "* All statements must be equally indented, which is usually 4 spaces.\n",
    "\n",
    "**Note:** Do not indent your program with mix of spaces and tabs.\n",
    "\n",
    "#### Example\n",
    "The program to implement the function defined by the following pseudocode  \n",
    "\n",
    ">```coffeescript\n",
    ">1 FUNCTION square(n : INTEGER) : INTEGER\n",
    ">2    result ← n * n\n",
    ">3    RETURN result\n",
    ">4 ENDFUNCTION\n",
    ">```\n",
    "\n",
    "in Python looks like:"
   ]
  },
  {
   "cell_type": "code",
   "execution_count": null,
   "metadata": {
    "colab": {
     "base_uri": "https://localhost:8080/"
    },
    "executionInfo": {
     "elapsed": 4,
     "status": "ok",
     "timestamp": 1736000816036,
     "user": {
      "displayName": "Tee Ti",
      "userId": "01570049436197552602"
     },
     "user_tz": -480
    },
    "id": "T0aTxx5zrCZs",
    "outputId": "55be84bb-efbf-4ea9-9070-fec358a189fe"
   },
   "outputs": [
    {
     "name": "stdout",
     "output_type": "stream",
     "text": [
      "16\n",
      "121\n"
     ]
    }
   ],
   "source": [
    "def square(n):\n",
    "    result = n * n\n",
    "    return result\n",
    "\n",
    "print(square(4))\n",
    "print(square(11))"
   ]
  },
  {
   "cell_type": "markdown",
   "metadata": {
    "id": "cLW-IousrCZw"
   },
   "source": [
    "#### Exercise\n",
    "Write a **function** named `my_circle_area` that takes in a float $r$ as a parameter and returns a float that represents the area of a circle with radius $r$."
   ]
  },
  {
   "cell_type": "code",
   "execution_count": null,
   "metadata": {
    "colab": {
     "base_uri": "https://localhost:8080/"
    },
    "executionInfo": {
     "elapsed": 272,
     "status": "ok",
     "timestamp": 1738199346478,
     "user": {
      "displayName": "Tee Ti",
      "userId": "01570049436197552602"
     },
     "user_tz": -480
    },
    "id": "C2DQknZhrCZy",
    "outputId": "40f5a185-00e8-4d97-b9f8-a7799feb1843"
   },
   "outputs": [
    {
     "name": "stdout",
     "output_type": "stream",
     "text": [
      "12.566370614359172\n"
     ]
    }
   ],
   "source": [
    "# YOUR_CODE_HERE\n",
    "\n",
    "import math ##need to import maths library. If not, try the following w/o math lib\n",
    "\n",
    "def my_circle_area(r):\n",
    "  return math.pi*r**2 ##why math.?\n",
    "\n",
    "print(my_circle_area(2))"
   ]
  },
  {
   "cell_type": "markdown",
   "metadata": {
    "id": "hNUgEBGtrCZz"
   },
   "source": [
    "#### Exercise\n",
    "Write a **function** named `my_discriminant` that takes in three float values $a$, $b$ and $c$ as parameters that represents that coefficients of the quadratic expression in the equation $ax^2 + bx + c = 0$ and returns a float that represents the discriminant of the quadratic equation"
   ]
  },
  {
   "cell_type": "code",
   "execution_count": null,
   "metadata": {
    "colab": {
     "base_uri": "https://localhost:8080/"
    },
    "executionInfo": {
     "elapsed": 319,
     "status": "ok",
     "timestamp": 1738657733965,
     "user": {
      "displayName": "Tee Ti",
      "userId": "01570049436197552602"
     },
     "user_tz": -480
    },
    "id": "f62W2lK0rCZ0",
    "outputId": "7888b44c-68be-48a3-af0f-58899ce18398"
   },
   "outputs": [
    {
     "name": "stdout",
     "output_type": "stream",
     "text": [
      "4.795831523312719j\n"
     ]
    }
   ],
   "source": [
    "# YOUR_CODE_HERE\n",
    "\n",
    "import math\n",
    "import cmath #import Complex Math module if you are unsure whether there will be complex roots.\n",
    "             #what happens if you don't import cmath and proceeds with the calculation using math.sqrt() or **0.5?\n",
    "\n",
    "def my_discriminant(a,b,c):\n",
    "  discriminant=(float(b))**2-4*float(a)*float(c) ##need to convert to float; use of **\n",
    "  return cmath.sqrt(discriminant)\n",
    "\n",
    "print(my_discriminant(2,3,4))\n"
   ]
  },
  {
   "cell_type": "markdown",
   "metadata": {
    "id": "DmhJ_-F2rCZ1"
   },
   "source": [
    "#### Exercise\n",
    "Write a **function** named `my_gradient` that takes in four float values $x_1$, $y_1$, $x_2$ and $y_2$ as parameters and returns a float that represents the gradient of the line passing through the points $(x_1,y_1)$ and $(x_2,y_2)$ where $x_1 \\neq x_2$ in a Cartesian plane."
   ]
  },
  {
   "cell_type": "code",
   "execution_count": null,
   "metadata": {
    "colab": {
     "base_uri": "https://localhost:8080/"
    },
    "executionInfo": {
     "elapsed": 20,
     "status": "ok",
     "timestamp": 1741919761005,
     "user": {
      "displayName": "Tee Ti",
      "userId": "01570049436197552602"
     },
     "user_tz": -480
    },
    "id": "ntxZc78gGSfP",
    "outputId": "d2a34a37-efcc-4d04-8ed3-0de058d35d6f"
   },
   "outputs": [
    {
     "name": "stdout",
     "output_type": "stream",
     "text": [
      "1.0\n",
      "0.8\n"
     ]
    }
   ],
   "source": [
    "def my_gradient(x1,y1,x2,y2):\n",
    "  return (y1-y2)/(x1-x2)\n",
    "\n",
    "#main driver\n",
    "print(my_gradient(1,2,3,4))\n",
    "\n",
    "\n",
    "#can we place paremeters in parenthesis for \"easy reading\"\n",
    "#def my_gradient_parenthesis((x1,y1),(x2,y2)):\n",
    "  #return (y1-y2)/(x1-x2)\n",
    "#print(my_gradient_parenthesis((1,2),(3,4)))\n",
    "\n",
    "#how about using \"square brackets\"?\n",
    "#def my_gradient_square([x1,y1],[x2,y2]):\n",
    "  #return (y1-y2)/(x1-x2)\n",
    "#main driver\n",
    "#print(my_gradient_square([1,2],[3,4]))\n",
    "\n",
    "def my_gradient_points(point1,point2):\n",
    "  x1,y1=point1\n",
    "  x2,y2=point2\n",
    "  return (y2-y1)/(x2-x1)\n",
    "\n",
    "#main driver\n",
    "print(my_gradient_points((3,6),(8,10)))\n",
    "\n",
    "\"\"\"\n",
    "why is the result displayed as an approximation and not as an integer (e.g. 2.0 and not 2)?\n",
    "Python follows the principle of least surprise: even if the result is a whole number,\n",
    "division with / is expected to handle cases where the result might be a fraction.\n",
    "This behavior ensures consistency, so 5 / 2 gives 2.5 instead of rounding unexpectedly.\n",
    "\"\"\"\n",
    "pass"
   ]
  },
  {
   "cell_type": "code",
   "execution_count": null,
   "metadata": {
    "colab": {
     "base_uri": "https://localhost:8080/"
    },
    "executionInfo": {
     "elapsed": 22,
     "status": "ok",
     "timestamp": 1741920095539,
     "user": {
      "displayName": "Tee Ti",
      "userId": "01570049436197552602"
     },
     "user_tz": -480
    },
    "id": "BJJMF76prCZ2",
    "outputId": "15318612-2245-41ea-a7c7-a4d12e6408f9"
   },
   "outputs": [
    {
     "name": "stdout",
     "output_type": "stream",
     "text": [
      "3\n"
     ]
    }
   ],
   "source": [
    "#How to print an integer as an integer and not a decimal representation with .0?\n",
    "\n",
    "# YOUR_CODE_HERE\n",
    "\n",
    "def is_integer(numerator,denominator): #test whether the division result is an integer\n",
    "  return numerator%denominator==0 #recall use of %, ==, boolean value\n",
    "\n",
    "\n",
    "def my_gradient(x1,y1,x2,y2):\n",
    "  gradient=(y2-y1)/(x2-x1)\n",
    "  if is_integer((y2-y1),(x2-x1)):\n",
    "    return int(gradient)\n",
    "  else:\n",
    "    return gradient\n",
    "print(my_gradient(1,2,2,5))\n"
   ]
  },
  {
   "cell_type": "markdown",
   "metadata": {
    "id": "28MpfS_YrCZ3"
   },
   "source": [
    "#### Exercise\n",
    "Write a function named `is_odd` that takes in an integer value $x$ as a parameter and returns a Boolean value `True` if the $x$ is an odd integer and `False` otherwise.\n",
    "\n",
    "> Hint: Recall the use of the `%` and `==` operator."
   ]
  },
  {
   "cell_type": "code",
   "execution_count": null,
   "metadata": {
    "colab": {
     "base_uri": "https://localhost:8080/"
    },
    "executionInfo": {
     "elapsed": 327,
     "status": "ok",
     "timestamp": 1738658902764,
     "user": {
      "displayName": "Tee Ti",
      "userId": "01570049436197552602"
     },
     "user_tz": -480
    },
    "id": "IHLDz2MerCZ5",
    "outputId": "82fb36ca-1070-4f62-de2c-64849700fe1e"
   },
   "outputs": [
    {
     "data": {
      "text/plain": [
       "True"
      ]
     },
     "execution_count": 15,
     "metadata": {},
     "output_type": "execute_result"
    }
   ],
   "source": [
    "# YOUR_CODE_HERE\n",
    "\n",
    "def is_odd(number):\n",
    "  return (number+1)%2==0\n",
    "\n",
    "is_odd(3)"
   ]
  },
  {
   "cell_type": "markdown",
   "metadata": {
    "id": "6e1OL_jDrCZ6"
   },
   "source": [
    "#### Exercise\n",
    "Write a **function** named `my_reciprocal` that takes in a float value $x$ as parameter and returns a float that represents the reciprocal of $x$."
   ]
  },
  {
   "cell_type": "code",
   "execution_count": null,
   "metadata": {
    "colab": {
     "base_uri": "https://localhost:8080/"
    },
    "executionInfo": {
     "elapsed": 13,
     "status": "ok",
     "timestamp": 1741921587580,
     "user": {
      "displayName": "Tee Ti",
      "userId": "01570049436197552602"
     },
     "user_tz": -480
    },
    "id": "3DsNXEd8rCZ6",
    "outputId": "907e4aeb-4be1-4a61-dd37-f2e365185393"
   },
   "outputs": [
    {
     "name": "stdout",
     "output_type": "stream",
     "text": [
      "0.16666666666666666\n",
      "2/3\n"
     ]
    }
   ],
   "source": [
    "# YOUR_CODE_HERE\n",
    "\n",
    "##SDL: from fractions import Fraction\n",
    "\n",
    "def my_reciprocal(x):\n",
    "  return 1/x\n",
    "print(my_reciprocal(6))\n",
    "\n",
    "## can you write a code to simplify fractions?\n",
    "from fractions import Fraction\n",
    "def my_fraction(numerator,denominator):\n",
    "\n",
    "  return Fraction(numerator,denominator)\n",
    "\n",
    "print(my_fraction(4,6))"
   ]
  },
  {
   "cell_type": "markdown",
   "metadata": {
    "id": "eMPixYwArCZ7"
   },
   "source": [
    "As we can see from the exercises above, defining a function in Python can be pretty much analogous to how we do it in mathematics.\n",
    "\n",
    "However, there is a slight difference in it which was hinted in the last example. Can you spot it?"
   ]
  },
  {
   "cell_type": "markdown",
   "metadata": {
    "id": "cdoWGhCDrCZ8"
   },
   "source": [
    "## f-string for String Formatting\n",
    "We will digress a little bit from our discussion of function to the formatting of the string data as sometimes we would like to output or return our computed values in some specific manner for aesthetics or clarity purposes.\n",
    "\n",
    "Python f-strings provide a concise and readable way to embed expressions inside string literals. By prefixing a string with the letter `f` stands for 'formatting', you can include placeholders enclosed in curly braces `{}` directly within the string.\n",
    "\n",
    "These placeholders evaluate the expressions they contain and the evaluated expression will replace the placeholders in the string. They can include variables, arithmetic operations, function calls, or even more complex expressions, ensuring flexibility and readability in the code.\n",
    "\n",
    "#### Example\n",
    "Consider the following code:\n",
    "\n",
    "```python\n",
    "name = \"Alice\"\n",
    "age  = 25\n",
    "\n",
    "#\n",
    "greeting = f\"Hello, {name}! You are {age} years old.\"\n",
    "print(greeting)\n",
    "```\n",
    "\n",
    "The output would be:\n",
    "\n",
    "```text\n",
    "Hello, Alice! You are 25 years old.\n",
    "```"
   ]
  },
  {
   "cell_type": "code",
   "execution_count": null,
   "metadata": {
    "id": "PbmwqoUArCZ8"
   },
   "outputs": [],
   "source": [
    "# You can try out some f-strings here\n",
    "# YOUR_CODE_HERE"
   ]
  },
  {
   "cell_type": "markdown",
   "metadata": {
    "id": "_SRUUg-rrCZ9"
   },
   "source": [
    "#### Example\n",
    "Write a **function** named `my_circle_area` that takes in a float $r$ as a parameter and output the following string\n",
    "\n",
    "```python\n",
    "'The area of the circle with radius {r} is {area} unit square',\n",
    "```\n",
    "\n",
    "where `{r}` and `{area}` should correspond to the float $r$ and the area of the circle with radius $r$ respectively."
   ]
  },
  {
   "cell_type": "code",
   "execution_count": null,
   "metadata": {
    "id": "jU7uzvOVrCZ9"
   },
   "outputs": [],
   "source": [
    "# YOUR_CODE_HERE"
   ]
  },
  {
   "cell_type": "markdown",
   "metadata": {
    "id": "gRkiPrzbrCZ9"
   },
   "source": [
    "# List Data Type\n",
    "A Python list is a versatile and powerful data type used to store multiple items in a single variable. Think of a list as a collection that holds an ordered sequence of elements, which can include numbers, strings, or even other lists. The concept of list is very important is problem-solving as it helps us to keep track of the items of concern.\n",
    "\n",
    "## Creating a List\n",
    "You define a list using square brackets (`[]`), with each element separated by a comma. For example,\n",
    "\n",
    "```python\n",
    "my_list = [1, 'hello', 3.5, True]\n",
    "```\n",
    "\n",
    "creates a list containing an integer, a string, a float, and a boolean.\n",
    "\n",
    "The concept of list is similar to the concept of sets in mathematics. However, list allow the repetition of items and the order of the elements matter. E.g.\n",
    "- the list `[1,1,2]` is not the same as the list `[1,2]`\n",
    "- the list `[2,1]` is not the same as the list `[1,2]`\n",
    "\n",
    "Due to the ordered property of list, we can use list represent a point in the Cartesian with its $x$ and $y$ coordinates.\n",
    "\n",
    "#### Example\n",
    "Point $P$ with coordinates $(1,5)$ can be represented as `[1,5]`.\n",
    "\n",
    "Besides the logical operators mentioned above, there's an operator `in` that can be used to check if an element $x$ belongs to a list $L$, i.e., $x \\in L$. The expression will be evaluated to the Boolean `True` or `False`.\n",
    "\n",
    "#### Example\n",
    "Write a code to check if the values `1` and `'True'` is contained in the list `my_list` defined above."
   ]
  },
  {
   "cell_type": "code",
   "execution_count": null,
   "metadata": {
    "colab": {
     "base_uri": "https://localhost:8080/"
    },
    "executionInfo": {
     "elapsed": 46,
     "status": "ok",
     "timestamp": 1741921877985,
     "user": {
      "displayName": "Tee Ti",
      "userId": "01570049436197552602"
     },
     "user_tz": -480
    },
    "id": "RDf5R-zNrCZ-",
    "outputId": "96fbe1bc-1850-4422-8572-1ed556cf3117"
   },
   "outputs": [
    {
     "name": "stdout",
     "output_type": "stream",
     "text": [
      "True\n",
      "False\n",
      "True\n"
     ]
    }
   ],
   "source": [
    "my_list = [1, 'hello', 3.5, True]\n",
    "print(1 in my_list)\n",
    "print('True' in my_list) #\"True\" as a string vs True as a Boolean value"
   ]
  },
  {
   "cell_type": "markdown",
   "metadata": {
    "id": "grp_2GBCrCaA"
   },
   "source": [
    "In our context, there are some lists that are more applicable to us in solving mathematical problems. Below we will see how to create those lists.\n",
    "\n",
    "### Lists that contain a range of integers/floats\n",
    "In mathematics, we often see sets of the following form\n",
    "$$\\left\\{ x \\mid x\\in\\mathbb{Z} \\wedge m\\leq x < n\\right\\} $$\n",
    "which is a set of integers between $m$ and $n$, **with $m$ being included but not $n$**.\n",
    "\n",
    "To create such collection/list in Python, we can use the following syntax:\n",
    "\n",
    "```python\n",
    "[x for x in range(m, n)]\n",
    "```\n",
    "\n",
    "Note that the way to create the collection is analogous to how we formally write a set in mathematics. The correspondences are :\n",
    "- instead of curly braces `{}`, we use square brackets `[]` to indicate a collection\n",
    "- instead of writing $x\\in \\mathbb{Z} \\wedge m\\leq x < n$, we write `x in range(m, n)`. This way of defining is inbuilt in Python and is just is.\n",
    "\n",
    "#### Example\n",
    "Write a program to create a list of the first 5 non-zero integers and print it."
   ]
  },
  {
   "cell_type": "code",
   "execution_count": null,
   "metadata": {
    "colab": {
     "base_uri": "https://localhost:8080/"
    },
    "executionInfo": {
     "elapsed": 12,
     "status": "ok",
     "timestamp": 1741922631518,
     "user": {
      "displayName": "Tee Ti",
      "userId": "01570049436197552602"
     },
     "user_tz": -480
    },
    "id": "A3giIcDzrCaA",
    "outputId": "6dde8695-624a-4ed7-ad00-911f6bcec423"
   },
   "outputs": [
    {
     "name": "stdout",
     "output_type": "stream",
     "text": [
      "[1, 2, 3, 4, 5]\n"
     ]
    }
   ],
   "source": [
    "l = [x for x in range(1,6)]\n",
    "\n",
    "print(l)\n",
    "\n",
    "#What is a hypothesis for how range works?\n",
    "\n",
    "#range(start, stop, step): start (start (inclusive), stop (exclusive))\n",
    "#can you print out a descending list? ascending list? with different steps?"
   ]
  },
  {
   "cell_type": "markdown",
   "metadata": {
    "id": "imB3CftBrCaB"
   },
   "source": [
    "#### Exercise\n",
    "The set of the all odd positive integers can be written as in mathematical notation as\n",
    "\n",
    "$$\\left\\{ 2k+1 \\mid k\\in\\mathbb{Z}\\right\\}.$$\n",
    "\n",
    "Write a program to create a list of the odd positive integers below 25 and print it."
   ]
  },
  {
   "cell_type": "code",
   "execution_count": null,
   "metadata": {
    "id": "B3cozgotrCaB"
   },
   "outputs": [],
   "source": [
    "# YOUR_CODE_HERE"
   ]
  },
  {
   "cell_type": "markdown",
   "metadata": {
    "id": "ixDuDtf_rCaB"
   },
   "source": [
    "### Lists that contain values that matches some predicate $P$\n",
    "Generally, in mathematics, we can naively create a set of values $x$ where the elements fulfills some criteria $P(x)$. Such set is written as\n",
    "\n",
    "$$\\left\\{ x \\mid \\forall x\\in L, P(x) \\text{ is true}\\right\\}.$$\n",
    "\n",
    "Similar to the previous section, we can create such collection/list in Python, we can use the following syntax:\n",
    "\n",
    "```python\n",
    "[x for x in L if P(x)]\n",
    "```\n",
    "\n",
    "where `L` is a Python list with already containing some elements and `P(x)` is a function taking `x` as a parameter with a Boolean return.\n",
    "\n",
    "#### Example\n",
    "The set of the all even positive integers can be written as in mathematical notation as\n",
    "\n",
    "$$\\left\\{ 2k \\mid k\\in\\mathbb{Z}\\right\\}.$$\n",
    "\n",
    "Write a program to create a list of the even positive integers below 30 and print it."
   ]
  },
  {
   "cell_type": "code",
   "execution_count": null,
   "metadata": {
    "id": "3kBpiA0xrCaC",
    "outputId": "5aafbecd-0a8c-4796-9ddc-ea9eb6ad0895"
   },
   "outputs": [
    {
     "name": "stdout",
     "output_type": "stream",
     "text": [
      "[2, 4, 6, 8, 10, 12, 14, 16, 18, 20, 22, 24, 26, 28]\n"
     ]
    }
   ],
   "source": [
    "L = [x for x in range(1,30)]\n",
    "\n",
    "def P(x):\n",
    "    return (x % 2 == 0) and (x < 30)\n",
    "\n",
    "even_list = [x for x in L if P(x)]\n",
    "\n",
    "print(even_list)"
   ]
  },
  {
   "cell_type": "markdown",
   "metadata": {
    "id": "9PB_mrHtrCaC"
   },
   "source": [
    "#### Exercise\n",
    "The **intersection** of two sets $A$ and $B$, $A\\cap B$ is defined as\n",
    "\n",
    "$$A\\cap B = \\left\\{ x\\mid x\\in A\\wedge x\\in B\\right\\}.$$\n",
    "\n",
    "Write a function `intersection()` that takes in two lists $A$ and $B$, which represents sets, and return a list that represents the intersection of the two sets.\n",
    "\n",
    "Test your function with the following parameters:\n",
    "- `A = [1, 3, 5, 7, 9]`, `B = [5, 6, 7, 8, 9, 10]`\n",
    "- `A = [x for x in range(0, 20)]`, `B = [3*k for k in range(4,10)]`"
   ]
  },
  {
   "cell_type": "code",
   "execution_count": null,
   "metadata": {
    "colab": {
     "base_uri": "https://localhost:8080/"
    },
    "executionInfo": {
     "elapsed": 8,
     "status": "ok",
     "timestamp": 1742001463346,
     "user": {
      "displayName": "Tee Ti",
      "userId": "01570049436197552602"
     },
     "user_tz": -480
    },
    "id": "q6WlrrAdrCaD",
    "outputId": "a97796c0-6300-4922-d664-f4e8ba259a6e"
   },
   "outputs": [
    {
     "name": "stdout",
     "output_type": "stream",
     "text": [
      "[5, 7, 9]\n"
     ]
    }
   ],
   "source": [
    "# YOUR_CODE_HERE\n",
    "\n",
    "A = [x for x in range(1,10,2)]\n",
    "B = [x for x in range(5,11,1)]\n",
    "#L=list(set(A+B))  #SDL: how to create a union of two lists?\n",
    "\n",
    "def P(x):\n",
    "    return (x in B)\n",
    "\n",
    "intersection_list = [x for x in A if P(x)]\n",
    "\n",
    "print(intersection_list)"
   ]
  },
  {
   "cell_type": "markdown",
   "metadata": {
    "id": "2PMIq4DnrCaD"
   },
   "source": [
    "#### Exercise\n",
    "An integer `x` is a **factor** of another integer `a` if `x` divides `a`.\n",
    "\n",
    "Write a function `find_factors()` that takes in an integer `a` as a parameter and return a list of all the factors of `a`."
   ]
  },
  {
   "cell_type": "code",
   "execution_count": null,
   "metadata": {
    "colab": {
     "base_uri": "https://localhost:8080/"
    },
    "executionInfo": {
     "elapsed": 46,
     "status": "ok",
     "timestamp": 1742022517220,
     "user": {
      "displayName": "Tee Ti",
      "userId": "01570049436197552602"
     },
     "user_tz": -480
    },
    "id": "vLkn7-z5rCaD",
    "outputId": "4fe2318b-1e8c-48d6-f23d-a5514928341d"
   },
   "outputs": [
    {
     "name": "stdout",
     "output_type": "stream",
     "text": [
      "[1, 2, 3, 4, 6, 12, -12, -6, -4, -3, -2, -1]\n",
      "\n",
      "** Edited to make the code more modular\n",
      "[1, 2, 4, 5, 10, 20, -20, -10, -5, -4, -2, -1]\n"
     ]
    }
   ],
   "source": [
    "# YOUR_CODE_HERE\n",
    "integer_a=12\n",
    "\n",
    "### Draft: single iterable/loop variable x in list comprehension\n",
    "\n",
    "def find_factors(x):\n",
    "    return (integer_a%x==0)\n",
    "\n",
    "#Driver\n",
    "integer_a=12\n",
    "\n",
    "A = [x for x in range(1,integer_a+1,1)]\n",
    "B = [x for x in range(-integer_a,0,1)]\n",
    "\n",
    "list_factor= [x for x in A if find_factors(x)]\\\n",
    "+[x for x in B if find_factors(x)]\n",
    "\n",
    "print(list_factor)\n",
    "\n",
    "print()\n",
    "print('** Edited to make the code more modular')\n",
    "### Making the code more modular and more reusable\n",
    "def find_factors(x):\n",
    "    return (integer_b%x==0)\n",
    "\n",
    "def find_all_factors():\n",
    "    A = [x for x in range(1,integer_b+1,1)]\n",
    "    B = [x for x in range(-integer_b,0,1)]\n",
    "\n",
    "    return [x for x in A if find_factors(x)]\\\n",
    "    +[x for x in B if find_factors(x)]\n",
    "\n",
    "#Driver\n",
    "integer_b=20\n",
    "\n",
    "print(find_all_factors())"
   ]
  },
  {
   "cell_type": "markdown",
   "metadata": {
    "id": "ZG60MBlsrCaD"
   },
   "source": [
    "#### Exercise\n",
    "Write a function `common_factors()` that takes in two integers `a` and `b` as parameters and return a list of all the common factors of `a` and `b`."
   ]
  },
  {
   "cell_type": "code",
   "execution_count": null,
   "metadata": {
    "colab": {
     "base_uri": "https://localhost:8080/"
    },
    "executionInfo": {
     "elapsed": 55,
     "status": "ok",
     "timestamp": 1742003647909,
     "user": {
      "displayName": "Tee Ti",
      "userId": "01570049436197552602"
     },
     "user_tz": -480
    },
    "id": "R-g6-w9hrCaE",
    "outputId": "c4b4285b-a764-46a5-d4dc-8c8439e037a4"
   },
   "outputs": [
    {
     "name": "stdout",
     "output_type": "stream",
     "text": [
      "list of factors of 48: [1, 2, 3, 4, 6, 8, 12, 16, 24, 48]\n",
      "list of factors of 120: [1, 2, 3, 4, 5, 6, 8, 10, 12, 15, 20, 24, 30, 40, 60, 120]\n",
      "list of common factors: [1, 2, 3, 4, 6, 8, 12, 24]\n",
      "\n",
      "List of factors of 48: [1, 2, 3, 4, 6, 8, 12, 16, 24, 48]\n",
      "List of factors of 120: [1, 2, 3, 4, 5, 6, 8, 10, 12, 15, 20, 24, 30, 40, 60, 120]\n",
      "List of common factors: [1, 2, 3, 4, 6, 8, 12, 24]\n"
     ]
    }
   ],
   "source": [
    "# YOUR_CODE_HERE\n",
    "\n",
    "integer_a=48\n",
    "\n",
    "integer_b=120\n",
    "\n",
    "### Method 1: single iterable/loop variable x in list comprehension\n",
    "\n",
    "A = [x for x in range(1,integer_a+1,1)]\n",
    "B = [x for x in range(1,integer_b+1,1)]\n",
    "\n",
    "def find_factors(x,n):\n",
    "    return (n%x==0)\n",
    "\n",
    "list_factor_integer_a= [x for x in A if find_factors(x,integer_a)]\n",
    "list_factor_integer_b= [x for x in B if find_factors(x,integer_b)]\n",
    "\n",
    "def P(x):\n",
    "  return (x in list_factor_integer_b)\n",
    "\n",
    "list_commmon_factors=[x for x in list_factor_integer_a if P(x)]\n",
    "\n",
    "#Print statements\n",
    "print(f\"list of factors of {integer_a}: {list_factor_integer_a}\")\n",
    "print(f\"list of factors of {integer_b}: {list_factor_integer_b}\")\n",
    "print(f\"list of common factors: {list_commmon_factors}\")\n",
    "\n",
    "print()\n",
    "\n",
    "## Method 2: Concise code\n",
    "\n",
    "# Input integers\n",
    "integer_a = 48\n",
    "integer_b = 120\n",
    "\n",
    "# Function to find factors of a number\n",
    "def find_factors(n):\n",
    "    return [x for x in range(1, n + 1) if n % x == 0]\n",
    "\n",
    "# Find factors of integer_a and integer_b\n",
    "factors_a = find_factors(integer_a)\n",
    "factors_b = find_factors(integer_b)\n",
    "\n",
    "# Find common factors\n",
    "common_factors = [x for x in factors_a if x in factors_b]\n",
    "\n",
    "# Print statements\n",
    "print(f\"List of factors of {integer_a}: {factors_a}\")\n",
    "print(f\"List of factors of {integer_b}: {factors_b}\")\n",
    "print(f\"List of common factors: {common_factors}\")"
   ]
  },
  {
   "cell_type": "markdown",
   "metadata": {
    "id": "BDUnn5xrrCaE"
   },
   "source": [
    "This ease of creating collection that is analogous to how we define set is mathematics in Python is called **list comprehension**. Besides being a concise and efficient way to create lists, list comprehension helps to make the code more readable for someone who is trained in reading mathematical notation."
   ]
  },
  {
   "cell_type": "markdown",
   "metadata": {
    "id": "T6K6XIM1rCaF"
   },
   "source": [
    "## Nested Lists\n",
    "As we have seen earlier, elements in a list could itself be a list. Such lists that  contain other lists as their elements is called a nested list. This allows you to create complex data structures, such as matrices or tables.\n",
    "\n",
    "A nested list is defined using square brackets, where each element of the list can itself be another list.\n",
    "\n",
    "#### Example\n",
    "We can represent the $3\\times 3$ matrix\n",
    "\n",
    "$$A = \\left(\\begin{array}{ccc}\n",
    "1 & 2 & 3\\\\\n",
    "4 & 5 & 6\\\\\n",
    "7 & 8 & 9\n",
    "\\end{array}\\right)$$\n",
    "\n",
    "as a nested list in Python as follows."
   ]
  },
  {
   "cell_type": "code",
   "execution_count": null,
   "metadata": {
    "id": "bniJE6qBrCaG"
   },
   "outputs": [],
   "source": [
    "A = [[1, 2, 3], [4, 5, 6], [7, 8, 9]]"
   ]
  },
  {
   "cell_type": "markdown",
   "metadata": {
    "id": "3B7tKPpArCaG"
   },
   "source": [
    "To access elements in a nested list, you use multiple indices: the first index selects the sublist, and the second index selects the specific element within that sublist. For instance, `A[1][2]` retrieves the value `6`, which the $(1,2)$ th entry of the nested list.\n",
    "\n",
    "If we stick with zero-indexing, this is analogous to how we write $(1,2)$ th entry of the matrix $A$ in mathematics which is $a_{12}$."
   ]
  },
  {
   "cell_type": "markdown",
   "metadata": {
    "id": "wwjv9E_HrCaG"
   },
   "source": [
    "## Manipulating a List\n",
    "###**Accessing Elements**\n",
    "Lists are mutable, meaning you can add, remove, or modify elements after the list is created. The order of elements in a list is preserved, and you can access them using their index, starting from zero. For instance, if\n",
    "\n",
    "```python\n",
    "my_list = [1, 'hello', 3.5, True]\n",
    "```\n",
    "\n",
    "- `my_list[0]` would return `1`,\n",
    "- `my_list[1]` would return `'hello'`.\n"
   ]
  },
  {
   "cell_type": "markdown",
   "metadata": {
    "id": "WPz53SEJGZv7"
   },
   "source": [
    "###**Modifying Elements**\n",
    "\n",
    "You can change the value of an element in a list by assigning a new value to its index.\n",
    "\n",
    "\n",
    "\n",
    "```\n",
    "my_list[1] = 99\n",
    "```\n",
    "- `print(my_list)`  would return `[1, 99, 3.5, True]`."
   ]
  },
  {
   "cell_type": "markdown",
   "metadata": {
    "id": "vEeuXqVTWNEe"
   },
   "source": [
    "###**Appending Elements**\n",
    "\n",
    "You can append an element to the end of a list.\n",
    "\n",
    "```\n",
    "my_list.append(60)\n",
    "```\n",
    "- `print(my_list)`  would return `[1, 99, 3.5, True, 60]`."
   ]
  },
  {
   "cell_type": "markdown",
   "metadata": {
    "id": "jCc-1jXnXkT9"
   },
   "source": [
    "###**List Slicing**\n",
    "\n",
    "You can extract a portion of a list using slicing. The syntax is `list[start:stop:step]`.\n",
    "\n",
    "```\n",
    "my_list = [1, 2, 3, 4, 5, 6, 7, 8, 9]\n",
    "```\n",
    "- `print(my_list[2:5])`  would return `[3, 4, 5]`.\n",
    "\n",
    "- `print(my_list[::2])`  would return `[1, 3, 5, 7, 9]`."
   ]
  },
  {
   "cell_type": "markdown",
   "metadata": {
    "id": "fy5OwcYeaQGH"
   },
   "source": [
    "###**Finding elements in a list**\n",
    "\n",
    "You can use the `in` keyword to check if an element exists in a list.\n",
    "\n",
    "```\n",
    "my_list = [10, 20, 30, 40, 50]\n",
    "```\n",
    "- `print(20 in my_list)`  would return `True`.\n",
    "\n",
    "- `print(99 in my_list)`  would return `False`.\n",
    "\n",
    "To find the index of an element, use the syntax index().\n",
    "```\n",
    "index = my_list.index(30)\n",
    "```\n",
    "- `print(index)` would return `2`."
   ]
  },
  {
   "cell_type": "markdown",
   "metadata": {
    "id": "R5X_adjtrCaH"
   },
   "source": [
    "###**Exercises**\n",
    "\n",
    "Have fun working on the following exercises 😃\n",
    "\n",
    "(a) Determine if a quadratic $x^2+bx+c$ has integer factors. \\\n",
    "[Bear in mind that a monic quadratic polynomial has a unique factorization over the integers (up to the order of the factors). ] \\\n",
    "(b) Run the Sieve of Erasthotenes.\\"
   ]
  },
  {
   "cell_type": "code",
   "execution_count": null,
   "metadata": {
    "colab": {
     "base_uri": "https://localhost:8080/"
    },
    "executionInfo": {
     "elapsed": 16,
     "status": "ok",
     "timestamp": 1742025022381,
     "user": {
      "displayName": "Tee Ti",
      "userId": "01570049436197552602"
     },
     "user_tz": -480
    },
    "id": "mPtwEPJnoHTi",
    "outputId": "3b25d80b-976c-4442-9136-cd1249d95678"
   },
   "outputs": [
    {
     "name": "stdout",
     "output_type": "stream",
     "text": [
      "[1, 2, 4, 5, 10, 20, -20, -10, -5, -4, -2, -1]\n",
      "([4, -5], 'Integer factors found!')\n"
     ]
    }
   ],
   "source": [
    "## (a) Determine if a quadratic has integer factors\n",
    "\n",
    "### Need to use abs() function, maybe tuple to print informative output\n",
    "def find_factors(x):\n",
    "    return (coefficient_b%x==0)\n",
    "\n",
    "def find_all_factors():\n",
    "    A = [x for x in range(1,abs(coefficient_b)+1,1)]\n",
    "    B = [x for x in range(-abs(coefficient_b),0,1)]\n",
    "\n",
    "    all_factors_list=[x for x in A if find_factors(x)]\\\n",
    "    +[x for x in B if find_factors(x)]\n",
    "    return all_factors_list\n",
    "\n",
    "def determine_factor_poly(list_factor,a,b):\n",
    "    pair=[x for x in list_factor if coefficient_b/x + x==coefficient_a]\n",
    "    if pair==[]:\n",
    "      return [], \"No integer factors :x\"\n",
    "    else:\n",
    "      return pair, \"Integer factors found!\"\n",
    "\n",
    "# Driver code\n",
    "## Given y=x^2+ax+b:\n",
    "coefficient_a=-1\n",
    "coefficient_b=-20\n",
    "\n",
    "print(find_all_factors()) #as an intermediate check\n",
    "\n",
    "print(determine_factor_poly(find_all_factors(),coefficient_a,coefficient_b))"
   ]
  },
  {
   "cell_type": "markdown",
   "metadata": {
    "id": "4sPACPtOrCaH"
   },
   "source": [
    "# Useful Inbuild Python Functions\n",
    "Python has inbuilt functions that are particularly useful in doing mathematics.\n",
    "\n",
    "## `len()` Function\n",
    "When a list $L$ is passed into the `len()` function as a parameter, it returns the number of items in $L$.\n",
    "\n",
    "#### Example\n",
    "The code `len([1, 3, 4, 2])` returns `4`."
   ]
  },
  {
   "cell_type": "code",
   "execution_count": null,
   "metadata": {
    "id": "C7Yv_fM1rCaH",
    "outputId": "3cd1eaa8-bd45-4afb-b20f-69d2257f4f59"
   },
   "outputs": [
    {
     "name": "stdout",
     "output_type": "stream",
     "text": [
      "4\n"
     ]
    }
   ],
   "source": [
    "l = [1, 3, 4, 2]\n",
    "\n",
    "print(len(l))"
   ]
  },
  {
   "cell_type": "markdown",
   "metadata": {
    "id": "gDxixzucrCai"
   },
   "source": [
    "## `max()` and `min()` Functions\n",
    "The `max()` and `min()` functions in Python are built-in tools that can take in a list as a parameter and return the maximum and minimum values in a list respectively.\n",
    "\n",
    "#### Example\n",
    "```python\n",
    "numbers = [3, 7, 2, 9, 5]\n",
    "print(max(numbers))  # Output: 9\n",
    "print(min(numbers))  # Output: 2\n",
    "```"
   ]
  },
  {
   "cell_type": "markdown",
   "metadata": {
    "id": "xRJXFvv_rCaj"
   },
   "source": [
    "#### Exercise\n",
    "Let $a$ and $b$ be positive integers. A common factor of $a$ and $b$ is a positive integer $k$ that is a factor of both $a$ and $b$. The highest of such integer is called the highest common divisor of $a$ and $b$, denoted as $\\operatorname{hcf}(a,b)$.\n",
    "\n",
    "Write a function $\\operatorname{hcf}$ that takes in 2 positive integer $a$ and $b$, and return the highest common factor of $a$ and $b$."
   ]
  },
  {
   "cell_type": "code",
   "execution_count": null,
   "metadata": {
    "colab": {
     "base_uri": "https://localhost:8080/"
    },
    "executionInfo": {
     "elapsed": 29,
     "status": "ok",
     "timestamp": 1742025930912,
     "user": {
      "displayName": "Tee Ti",
      "userId": "01570049436197552602"
     },
     "user_tz": -480
    },
    "id": "DkqpjaBarCaj",
    "outputId": "fc0d7f1e-90b3-47b4-a98a-00d2475e5f6a"
   },
   "outputs": [
    {
     "name": "stdout",
     "output_type": "stream",
     "text": [
      "factors of 48:[1, 2, 3, 4, 6, 8, 12, 16, 24, 48]\n",
      "factors of 120:[1, 2, 3, 4, 5, 6, 8, 10, 12, 15, 20, 24, 30, 40, 60, 120]\n",
      "Common factors: [1, 2, 3, 4, 6, 8, 12, 24]\n",
      "highest common factor: 24\n"
     ]
    }
   ],
   "source": [
    "# YOUR_CODE_HERE\n",
    "\n",
    "# Input integers\n",
    "\n",
    "# Function to find factors of a number\n",
    "def find_factors(n):\n",
    "    return [x for x in range(1, n + 1) if n % x == 0]\n",
    "\n",
    "def find_common_factors(a,b):\n",
    "# Find factors of integer_a and integer_b\n",
    "    factors_a = find_factors(a)\n",
    "    factors_b = find_factors(b)\n",
    "    common_factors = [x for x in factors_a if x in factors_b]\n",
    "    return common_factors\n",
    "\n",
    "def highest_common_factor(list_common_factors):\n",
    "    return max(list_common_factors)\n",
    "\n",
    "# Print statements\n",
    "integer_a = 48\n",
    "integer_b = 120\n",
    "print(f\"factors of {integer_a}:{find_factors(integer_a)}\")\n",
    "print(f\"factors of {integer_b}:{find_factors(integer_b)}\")\n",
    "print(f\"Common factors: {find_common_factors(integer_a,integer_b)}\")\n",
    "print(f\"highest common factor: {highest_common_factor(find_common_factors(integer_a,integer_b))}\")"
   ]
  },
  {
   "cell_type": "markdown",
   "metadata": {
    "id": "OU5IKhqYrCaj"
   },
   "source": [
    "## `sum()` Function\n",
    "Similarly, if a list $L$ is passed in as a parameter, the function `sum()` computes the total of all elements in $L$. This function is valuable for summing sequences, calculating cumulative totals, or solving problems involving series.\n",
    "\n",
    "#### Example\n",
    "Write a function `my_sum()` that takes in an integer parameter $n$ and return the sum the first $n$ natural numbers.\n",
    "\n",
    "Test your program with $n = 100$."
   ]
  },
  {
   "cell_type": "code",
   "execution_count": null,
   "metadata": {
    "id": "tgs3lLHOrCak",
    "outputId": "2d39d1b3-1f42-4728-f853-317e0414e6c4"
   },
   "outputs": [
    {
     "name": "stdout",
     "output_type": "stream",
     "text": [
      "5050\n"
     ]
    }
   ],
   "source": [
    "def my_sum(n):\n",
    "    l = [x for x in range(1, n + 1)]\n",
    "    return sum(l)\n",
    "\n",
    "print(my_sum(100))"
   ]
  },
  {
   "cell_type": "markdown",
   "metadata": {
    "id": "4fm5bxmyrCal"
   },
   "source": [
    "#### Exercise\n",
    "Write a function `my_mean()` that takes in a list of values $L$ and return the arithmetic mean of the values in $L$."
   ]
  },
  {
   "cell_type": "code",
   "execution_count": null,
   "metadata": {
    "id": "4pczW71jrCal"
   },
   "outputs": [],
   "source": [
    "# YOUR_CODE_HERE"
   ]
  },
  {
   "cell_type": "markdown",
   "metadata": {
    "id": "U7t6hiobrCal"
   },
   "source": [
    "## `range()` Function\n",
    "The `range()` function, which we have encountered in the creation of lists, generates an memory-efficient object that represents a sequence of numbers in the computer.\n",
    "\n",
    "It has the syntax\n",
    "\n",
    "```python\n",
    "range(start, stop, step)\n",
    "```\n",
    "\n",
    "It returns an object that produces a sequence of integers from `start` (inclusive) to `stop` (exclusive) by `step` amount.\n",
    "\n",
    "\n",
    "#### Example\n",
    "Write a program to create a list of the odd positive integers below 30 and print it."
   ]
  },
  {
   "cell_type": "code",
   "execution_count": null,
   "metadata": {
    "id": "UXLHVRtfrCam",
    "outputId": "ea63719f-b9f5-4188-d167-85cb57152032"
   },
   "outputs": [
    {
     "name": "stdout",
     "output_type": "stream",
     "text": [
      "[1, 3, 5, 7, 9, 11, 13, 15, 17, 19, 21, 23, 25, 27, 29]\n"
     ]
    }
   ],
   "source": [
    "l = [x for x in range(1, 31, 2)]\n",
    "\n",
    "print(l)"
   ]
  },
  {
   "cell_type": "markdown",
   "metadata": {
    "id": "avKAhrrZrCam"
   },
   "source": [
    "## Typecasting Functions\n",
    "Typecasting functions like `int()`, `float()`, and `list()` enable smooth transitions between different data formats. They convert the string inputs into their associated intended data type.\n",
    "\n",
    "For instance, converting a string `\"5\"` to an integer using `int(\"5\")` ensures compatibility with arithmetic operations, while `float(\"3.14\")` converts the string `\"3.14\"` to the float `3.14`.\n",
    "\n",
    "The `list()` function can transform a `range` object into a list, which is helpful for creating sequences.\n",
    "\n",
    "Conversely, we can convert integer and float objects into string objects by using the `str()` typecasting function.\n",
    "\n",
    "#### Example\n",
    "Write a program to create a list of the odd positive integers below 30 and print it."
   ]
  },
  {
   "cell_type": "code",
   "execution_count": null,
   "metadata": {
    "id": "Kt80aUUVrCam",
    "outputId": "dc07bd04-888e-4d90-aff5-646bbd384858"
   },
   "outputs": [
    {
     "data": {
      "text/plain": [
       "[1, 3, 5, 7, 9, 11, 13, 15, 17, 19, 21, 23, 25, 27, 29]"
      ]
     },
     "execution_count": 9,
     "metadata": {},
     "output_type": "execute_result"
    }
   ],
   "source": [
    "list(range(1, 31, 2))"
   ]
  },
  {
   "cell_type": "markdown",
   "metadata": {
    "id": "HF0oCAXnrCan"
   },
   "source": [
    "#### Example\n",
    "Write a **function** named `main` that:\n",
    "- takes in no parameter\n",
    "- asks user to input a float value $r$\n",
    "- output the following string\n",
    "\n",
    "```python\n",
    "'The area of the circle with radius {r} is {area} unit square'.\n",
    "```\n",
    "\n",
    "where `{r}` and `{area}` should correspond to the float $r$ and the area of the circle with radius $r$ respectively."
   ]
  },
  {
   "cell_type": "code",
   "execution_count": null,
   "metadata": {
    "colab": {
     "base_uri": "https://localhost:8080/"
    },
    "executionInfo": {
     "elapsed": 1890,
     "status": "ok",
     "timestamp": 1742026595506,
     "user": {
      "displayName": "Tee Ti",
      "userId": "01570049436197552602"
     },
     "user_tz": -480
    },
    "id": "wY_zIenXrCan",
    "outputId": "4d361ce6-89bc-44e1-c1f8-a6d83ac1c4c8"
   },
   "outputs": [
    {
     "name": "stdout",
     "output_type": "stream",
     "text": [
      "Enter radius of circle:2\n",
      "The area of the circle with radius {r} is {area} unit square.\n"
     ]
    }
   ],
   "source": [
    "# YOUR_CODE_HERE\n",
    "## Self directed learning: user input\n",
    "def main():\n",
    "  r = input(\"Enter radius of circle:\" ) #r is a string here.\n",
    "  return 'The area of the circle with radius {r} is {area} unit square.'\n",
    "\n",
    "print(main())"
   ]
  },
  {
   "cell_type": "markdown",
   "metadata": {
    "id": "B8IopspJrCao"
   },
   "source": [
    "## `type()` Function\n",
    "`type()` determines the data type of a value or variable, such as `type(3.14)` returning `<class 'float'>`. This function is crucial in debugging or ensuring compatibility in operations where specific data types are required."
   ]
  },
  {
   "cell_type": "markdown",
   "metadata": {
    "id": "GW-jvlsDrCap"
   },
   "source": [
    "Typecasting functions are often used together with `input()` as `input()` statement  stores user input as a `str` object. Therefore, we use the typecasting functions to convert the input into usable datatype first.\n",
    "\n",
    "#### Example\n",
    "Write a program that asks user to input a number and print out the square of the number."
   ]
  },
  {
   "cell_type": "code",
   "execution_count": null,
   "metadata": {
    "colab": {
     "base_uri": "https://localhost:8080/"
    },
    "executionInfo": {
     "elapsed": 3453,
     "status": "ok",
     "timestamp": 1742026610267,
     "user": {
      "displayName": "Tee Ti",
      "userId": "01570049436197552602"
     },
     "user_tz": -480
    },
    "id": "8lwqYMwmrCap",
    "outputId": "91f45600-f584-4f88-d170-e18d4753f1c8"
   },
   "outputs": [
    {
     "name": "stdout",
     "output_type": "stream",
     "text": [
      "Please enter a number4\n",
      "<class 'str'>\n",
      "<class 'float'>\n",
      "16.0\n"
     ]
    }
   ],
   "source": [
    "a = input('Please enter a number')\n",
    "\n",
    "print(type(a))\n",
    "\n",
    "a = float(a)\n",
    "\n",
    "print(type(a))\n",
    "\n",
    "print(a**2)"
   ]
  },
  {
   "cell_type": "markdown",
   "metadata": {
    "id": "KFfQtlierCap"
   },
   "source": [
    "#### Exercise\n",
    "A positive integer $p$ is called a **prime** number if the only divisors of $p$ is $1$ and $p$ itself.\n",
    "\n",
    "Write a function `is_prime()` that takes in a positive integer $x$ and returns Boolean `True` if $x$ is a prime number and `False` otherwise."
   ]
  },
  {
   "cell_type": "code",
   "execution_count": null,
   "metadata": {
    "colab": {
     "base_uri": "https://localhost:8080/"
    },
    "executionInfo": {
     "elapsed": 32,
     "status": "ok",
     "timestamp": 1742107322860,
     "user": {
      "displayName": "Tee Ti",
      "userId": "01570049436197552602"
     },
     "user_tz": -480
    },
    "id": "qNEEfbJurCaq",
    "outputId": "cb3fe626-db2a-4835-a0a2-ef190400b5f9"
   },
   "outputs": [
    {
     "name": "stdout",
     "output_type": "stream",
     "text": [
      "(True, [1, 113])\n"
     ]
    }
   ],
   "source": [
    "# YOUR_CODE_HERE\n",
    "def is_prime(x):\n",
    "    counting_list=[x for x in range(1,x+1,1)]\n",
    "    factor_list=[y for y in counting_list if x%y==0]\n",
    "    if factor_list==[1,x]:\n",
    "      return True, factor_list\n",
    "    else:\n",
    "      return False, factor_list\n",
    "\n",
    "print(is_prime(113))"
   ]
  },
  {
   "cell_type": "code",
   "execution_count": null,
   "metadata": {
    "colab": {
     "base_uri": "https://localhost:8080/"
    },
    "executionInfo": {
     "elapsed": 17,
     "status": "ok",
     "timestamp": 1742028181269,
     "user": {
      "displayName": "Tee Ti",
      "userId": "01570049436197552602"
     },
     "user_tz": -480
    },
    "id": "bZelc2-hrCas",
    "outputId": "b884e304-763d-436e-9918-e5d2b5d405a2"
   },
   "outputs": [
    {
     "name": "stdout",
     "output_type": "stream",
     "text": [
      "1\n"
     ]
    }
   ],
   "source": [
    "# YOUR_CODE_HERE\n",
    "# what happens when int(x) and x is not an integer?\n",
    "print(int(1.99))"
   ]
  },
  {
   "cell_type": "markdown",
   "metadata": {
    "id": "G9YiBxEUrCas"
   },
   "source": [
    "#### Exercise\n",
    "Write a function `find_prime_factors()` that takes in a positive integer $x$ and return a list of all the prime factors of $x$."
   ]
  },
  {
   "cell_type": "code",
   "execution_count": null,
   "metadata": {
    "colab": {
     "base_uri": "https://localhost:8080/"
    },
    "executionInfo": {
     "elapsed": 49,
     "status": "ok",
     "timestamp": 1742174480912,
     "user": {
      "displayName": "Tee Ti",
      "userId": "01570049436197552602"
     },
     "user_tz": -480
    },
    "id": "8VWecEg8rCat",
    "outputId": "029d76f6-2ee5-4d93-fbc2-2efcd0b5d04f"
   },
   "outputs": [
    {
     "name": "stdout",
     "output_type": "stream",
     "text": [
      "[2, 3, 5, 7]\n"
     ]
    }
   ],
   "source": [
    "# YOUR_CODE_HERE\n",
    "\n",
    "def is_prime(x):\n",
    "    counting_list=[x for x in range(1,x+1,1)]\n",
    "    factor_list=[y for y in counting_list if x%y==0]\n",
    "    if factor_list==[1,x]:\n",
    "      return True\n",
    "    else:\n",
    "      return False\n",
    "\n",
    "def prime_factor_list(z1):\n",
    "    counting_list=[z1 for z1 in range(1,z1+1,1)]\n",
    "    factor_list=[z2 for z2 in counting_list if z1%z2==0]\n",
    "    prime_factor_list=[z3 for z3 in factor_list if is_prime(z3)]\n",
    "    return prime_factor_list\n",
    "\n",
    "#main driver\n",
    "number=1050\n",
    "print(prime_factor_list(number))"
   ]
  },
  {
   "cell_type": "markdown",
   "metadata": {
    "id": "PyEvGKJqrCat"
   },
   "source": [
    "#### Exercise\n",
    "\n",
    "Write a function primes_between $(a, x)$ that takes in two positive integers $a$ and $x$, where $a < x$, and returns a list of all prime numbers $p$ such that $a < p \\leq x$. If no such primes exist, return an empty list."
   ]
  },
  {
   "cell_type": "code",
   "execution_count": null,
   "metadata": {
    "colab": {
     "base_uri": "https://localhost:8080/"
    },
    "executionInfo": {
     "elapsed": 13,
     "status": "ok",
     "timestamp": 1742180974362,
     "user": {
      "displayName": "Tee Ti",
      "userId": "01570049436197552602"
     },
     "user_tz": -480
    },
    "id": "Naps3xWQsQmq",
    "outputId": "69cd4122-949d-461c-d2f5-db6cd0ec4f74"
   },
   "outputs": [
    {
     "name": "stdout",
     "output_type": "stream",
     "text": [
      "[2, 3, 5, 7, 11, 13, 17, 19, 23, 29, 31, 37, 41, 43, 47, 53, 59, 61, 67, 71, 73, 79, 83, 89, 97, 101]\n"
     ]
    }
   ],
   "source": [
    "# YOUR_CODE_HERE\n",
    "\n",
    "def is_prime(x):\n",
    "    counting_list=[x for x in range(1,x+1,1)]\n",
    "    factor_list=[y for y in counting_list if x%y==0]\n",
    "    if factor_list==[1,x]:\n",
    "      return True\n",
    "    else:\n",
    "      return False\n",
    "\n",
    "def prime_factor_list(z1,z2):\n",
    "    counting_list=[z3 for z3 in range(z1+1,z2+1,1)]\n",
    "    prime_factor_list=[z4 for z4 in counting_list if is_prime(z4)]\n",
    "    return prime_factor_list\n",
    "\n",
    "a=1\n",
    "x=101\n",
    "\n",
    "print(prime_factor_list(a,x))"
   ]
  },
  {
   "cell_type": "markdown",
   "metadata": {
    "id": "onXJ3ztlrCav"
   },
   "source": [
    "#### Exercise\n",
    "The $n$ th triangular number is obtained by taking the sum of the first $n$ natural numbers i.e., $1, 2, 3, 4, 5, \\cdots, n$.\n",
    "\n",
    "The first 4 triangular numbers are:\n",
    "- 1st : $1$\n",
    "- 2nd : $3 = 1 + 2$\n",
    "- 3rd : $6 = 3 + 3$\n",
    "- 4th : $10 = 6 + 4$\n",
    "\n",
    "Write a function `triangle()` that takes in an integer $n$ and returns the list of the first $n$ triangular number.\n",
    "\n",
    "Test your function with $n = 50$."
   ]
  },
  {
   "cell_type": "code",
   "execution_count": null,
   "metadata": {
    "colab": {
     "base_uri": "https://localhost:8080/"
    },
    "executionInfo": {
     "elapsed": 47,
     "status": "ok",
     "timestamp": 1742108260427,
     "user": {
      "displayName": "Tee Ti",
      "userId": "01570049436197552602"
     },
     "user_tz": -480
    },
    "id": "G6rF-OHBrCaw",
    "outputId": "fb65de23-2222-4a8e-9cdd-f196123f0d39"
   },
   "outputs": [
    {
     "name": "stdout",
     "output_type": "stream",
     "text": [
      "5050\n"
     ]
    }
   ],
   "source": [
    "# YOUR_CODE_HERE\n",
    "\n",
    "def triangle(n):\n",
    "    triangle_list=[y for y in range(1,n+1,1)]\n",
    "    triangle_sum=sum(triangle_list)\n",
    "    return triangle_sum\n",
    "\n",
    "print(triangle(100))"
   ]
  }
 ],
 "metadata": {
  "colab": {
   "provenance": []
  },
  "kernelspec": {
   "display_name": "Python 3",
   "language": "python",
   "name": "python3"
  },
  "language_info": {
   "codemirror_mode": {
    "name": "ipython",
    "version": 3
   },
   "file_extension": ".py",
   "mimetype": "text/x-python",
   "name": "python",
   "nbconvert_exporter": "python",
   "pygments_lexer": "ipython3",
   "version": "3.12.1"
  }
 },
 "nbformat": 4,
 "nbformat_minor": 0
}
