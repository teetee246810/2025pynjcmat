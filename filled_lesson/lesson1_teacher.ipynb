{
 "cells": [
  {
   "cell_type": "markdown",
   "metadata": {
    "id": "8M9ISV-K60IA"
   },
   "source": [
    "[![Open In Colab](https://colab.research.google.com/assets/colab-badge.svg)](https://colab.research.google.com/github/teetee246810/2025pynjcmat/blob/main/filled_lesson/lesson1_teacher.ipynb)"
   ]
  },
  {
   "cell_type": "markdown",
   "metadata": {
    "id": "jhiooXa-ZEk6"
   },
   "source": [
    "# Introduction\n",
    "\n",
    "Google Colab is running Jupyter Notebook, which is an open-source web application that allows you to create and share documents that contain live code, equations, visualizations and narrative text.\n",
    "\n",
    "The **notebook** you are reading is not a static web page, but an interactive environment that lets you write and execute code. For example, here is a **code cell** with a short Python script that computes a value, stores it in a variable, and prints the result. A code cell has `In [ ]: in front`.\n",
    "\n",
    "Select the cell and press **Run** , the triangle button to the left side of the cell. (or shortcut key `Ctrl + Enter`)."
   ]
  },
  {
   "cell_type": "code",
   "execution_count": null,
   "metadata": {
    "id": "wgoOKNgfZElE",
    "outputId": "6c4c220f-ad86-4947-d40f-a6ae76970968"
   },
   "outputs": [
    {
     "name": "stdout",
     "output_type": "stream",
     "text": [
      "86400\n"
     ]
    }
   ],
   "source": [
    "seconds_in_a_day = 24 * 60 * 60\n",
    "\n",
    "print(seconds_in_a_day)"
   ]
  },
  {
   "cell_type": "markdown",
   "metadata": {
    "id": "plQSPCVXZElI"
   },
   "source": [
    "# Statements and Expressions in Python\n",
    "\n",
    "> **Definition**\n",
    ">\n",
    "> A *program* is the actual expression of an algorithm in a specific programming language. It allows the computer to execute the problem solution through a sequence of instructions.\n",
    "\n",
    "In mathematics, we encounter the notion of expression and statement. A mathematical expression is a written arrangement of symbols following the context-dependent, syntactic conventions of mathematical notation. Whereas, a mathematical statement is\n",
    "a declarative sentence that is either true or false but not both.\n",
    "\n",
    "#### Example\n",
    "- $2x + 1 = 0$ is a mathematical expression.\n",
    "- $\\forall x.2x + 1 = 0$ is a mathematical statement.\n",
    "\n",
    "However, in computing, the definition, although kinda related, is different. For the subsequent parts, when we say expression and statement, they refer to the definition given below.\n",
    "\n",
    "> **Definition**\n",
    ">\n",
    ">An *expression* in a programming language is a syntactic entity  that may be evaluated to determine its value.\n",
    "\n",
    "> **Definition**\n",
    ">\n",
    ">A *statement* in a programming language, on the other hand, is a syntactic entity, which has no value (merely an instruction.)\n",
    "\n",
    "#### Example\n",
    ">```python\n",
    ">answers = 1 + 1                 # '1+1' is an expression\n",
    ">\n",
    ">if answers == 2:\n",
    ">   print('Good Outlook')       # print('Good Outlook') is a statement.\n",
    ">```\n",
    "\n",
    "There are typically 3 basic statements:\n",
    "\n",
    "1. Input statements\n",
    "2. Output statements\n",
    "3. Assignment statements\n",
    "\n",
    "In general, input and output (I/O) allows the communication between an information processing system (such as a computer) and an external entity (such as a human).\n",
    "\n",
    "Input is information supplied to a computer or program.\n",
    "\n",
    "Output is information provided by a computer or program.\n",
    "\n",
    "Assignment statements will be elaborated further in the later section.\n",
    "\n",
    "#### Example\n",
    ">```python\n",
    ">#example of input statement.\n",
    ">#The user input is assigned to the variable x\n",
    ">x = input(\"Enter a positive integer value for x: \")\n",
    ">\n",
    ">#print statement to display the output\n",
    ">print(x)\n",
    ">```\n",
    "\n",
    "## Output Statements with `print()`\n",
    "\n",
    "In Python, to get an output, we use the `print()` command. To use it, you put the content you want to output between the parentheses `()`.\n",
    "\n",
    "`print('YOUR_SPECIFIED_MESSAGE')` function prints `YOUR_SPECIFIED_MESSAGE` to the screen, or other standard output device.\n",
    "\n",
    "#### Hands On Activity"
   ]
  },
  {
   "cell_type": "code",
   "execution_count": null,
   "metadata": {
    "id": "PbeZj4nAZElL",
    "outputId": "60e80e8b-9543-43ba-89e8-cf1b890a9e60"
   },
   "outputs": [
    {
     "name": "stdout",
     "output_type": "stream",
     "text": [
      "change_me_and_try_for_yourself\n"
     ]
    }
   ],
   "source": [
    "print('change_me_and_try_for_yourself')"
   ]
  },
  {
   "cell_type": "markdown",
   "metadata": {
    "id": "9r12n5f9ZElM"
   },
   "source": [
    "## Input Statements with `input()` function\n",
    "\n",
    "The `input(MSG_TO_USER)` command allows user input, where `MSG_TO_USER` is the text you want to display to user when you asked for the input. The text is an `str` object. `str` object can pretty much be thought of as text data and in Python, is indicated by a sequence of characters enclosed by single quotes, `'example'` or double quotes `\"another_example\"`.\n",
    "\n",
    "When using `input()`, variable to which the input is assigned to is also of `str` type.\n",
    "\n",
    "#### Hands On Activity"
   ]
  },
  {
   "cell_type": "code",
   "execution_count": null,
   "metadata": {
    "colab": {
     "base_uri": "https://localhost:8080/"
    },
    "executionInfo": {
     "elapsed": 8588,
     "status": "ok",
     "timestamp": 1735894978016,
     "user": {
      "displayName": "Tee Ti",
      "userId": "01570049436197552602"
     },
     "user_tz": -480
    },
    "id": "fapXo_9VZElN",
    "outputId": "7b01b2b6-6c24-4ca2-f002-9dc7e9509981"
   },
   "outputs": [
    {
     "name": "stdout",
     "output_type": "stream",
     "text": [
      "Please enter the content you want to printjij7\n",
      "jij7\n"
     ]
    }
   ],
   "source": [
    "# feel free to change the content inside the parentheses of input\n",
    "to_print = input('Please enter the content you want to print')\n",
    "print(to_print)"
   ]
  },
  {
   "cell_type": "markdown",
   "metadata": {
    "id": "0rl0_ya6ZElP"
   },
   "source": [
    "#### Exercise\n",
    "Write a program to print out the numbers between 1 and 10 that is divisible by 3."
   ]
  },
  {
   "cell_type": "code",
   "execution_count": null,
   "metadata": {
    "colab": {
     "base_uri": "https://localhost:8080/"
    },
    "executionInfo": {
     "elapsed": 325,
     "status": "ok",
     "timestamp": 1735895021723,
     "user": {
      "displayName": "Tee Ti",
      "userId": "01570049436197552602"
     },
     "user_tz": -480
    },
    "id": "WSC2wwLFZElQ",
    "outputId": "681a01b3-1522-497b-9875-a19ce55602a6"
   },
   "outputs": [
    {
     "name": "stdout",
     "output_type": "stream",
     "text": [
      "3 6 9\n"
     ]
    }
   ],
   "source": [
    "# YOUR_CODE_HERE\n",
    "\n",
    "print(3,6,9) #vs print(\"3,6,9\")"
   ]
  },
  {
   "cell_type": "markdown",
   "metadata": {
    "id": "rXNOqNOSZElR"
   },
   "source": [
    "#### Exercise\n",
    "Write a program that asks user to input a number and print out the number."
   ]
  },
  {
   "cell_type": "code",
   "execution_count": null,
   "metadata": {
    "colab": {
     "base_uri": "https://localhost:8080/"
    },
    "executionInfo": {
     "elapsed": 2247,
     "status": "ok",
     "timestamp": 1735895229933,
     "user": {
      "displayName": "Tee Ti",
      "userId": "01570049436197552602"
     },
     "user_tz": -480
    },
    "id": "hKmnx4KvZElT",
    "outputId": "1b7fc566-8d1c-4010-c724-7d681d09bc65"
   },
   "outputs": [
    {
     "name": "stdout",
     "output_type": "stream",
     "text": [
      "key a number: 5\n",
      "not an integer\n"
     ]
    }
   ],
   "source": [
    "# YOUR_CODE_HERE\n",
    "\n",
    "x=input(\"key a number: \") ## how do you check whether it is an integer?\n",
    "if type(x)==int:\n",
    "  print(x)\n",
    "else:\n",
    "  print(\"not an integer\") #after keying 5, you get \"not an integer\". Why?\n"
   ]
  },
  {
   "cell_type": "markdown",
   "metadata": {
    "id": "qCSXdQQMZElU"
   },
   "source": [
    "### Commenting\n",
    "In Python, comments are used to explain code, making it more readable and easier to understand for others (or your future self). Comments are not executed by the Python interpreter. A single-line comment begins with the `#` symbol, and everything after it on the same line is ignored by Python. Comments are commonly used to describe what a specific line or block of code does, provide context for why something is implemented a certain way, or temporarily disable code during debugging.\n",
    "\n",
    "We have seen the use of comments in the code blocks above. It is a good practice to comment your code consistently."
   ]
  },
  {
   "cell_type": "markdown",
   "metadata": {
    "id": "BXyDsjQBZElU"
   },
   "source": [
    "# Useful Data Types in Python\n",
    "\n",
    "What is data?\n",
    "\n",
    "> **Definition**\n",
    ">\n",
    "> In computing, a data is defined to be a sequence of one or more symbols.\n",
    "\n",
    "Note that under this definition, data doesn't need to carry information or even be meaningful. However, to make use of data, we need to endow it with more structure and make it meaningful.\n",
    "\n",
    "## The Basic Ones\n",
    "\n",
    "Data can be categorised into different types, i.e. a data type is a category/class of data. The following are 5 basic data types which are found in most programming languages:\n",
    "\n",
    "| No | Data Type             | Definition                                                        | Examples                   | Benefits                                                        | Limitations                                        |\n",
    "|---|-----------------------|-------------------------------------------------------------------|----------------------------|-----------------------------------------------------------------|----------------------------------------------------|\n",
    "| 1 | Integer `int`               | A whole number or number without a fractional part                | `-1`, `0`, `1`, `1000`                | Full precision with finite digits                               | Typically limited to a specific range              |\n",
    "| 2 | Floating Point Number `float`| A number with ( or calculated with) a fractional part              | `-1.5`, `0.1`, $\\tt{\\frac{1}{3}}$,`2.5`, $\\pi$       | Stores rational/irrational numbers with reasonable accuracy     | Not exact; not 100% precise                        |\n",
    "| 3 | Boolean `Boolean`              | Two values representing either true or false in a logic statement | `True`, `False`                | Space efficient when needed to represent values that are binary | Only 2 possible values                             |\n",
    "| 4 | String `str`                | A collection of symbols                                           | `a`, `abc`, `123`, `a string` | Allows for more human-readable information                      | Mapped values cannot be manipulated arithmetically |\n",
    "| 5 | `None`                  |  A null variable or object                                                                 |                            |                                                                 |                                                    |\n",
    "\n",
    "The first three data types corresponds to the integers ($\\mathbb{Z}$), the reals $\\mathbb{R}$ and the Boolean $\\mathbb{B}= \\{\\top,\\bot\\} $ that we are familiar with in mathematics.\n",
    "\n",
    "String data types represents a collection of characters like alphabets, numbers like `'a'`, `'njc'`, `'60'`, `'8x'`.\n",
    "\n",
    "Strings are denoted via the open and closed inverted commas - i.e., the value of the string corresponds to the symbols in between the open and closed inverted commas. In python, 5 and '5' are different\n",
    "\n",
    "We may also manipulate these values by performing various operations on them. Essentially, when we write code, we may form expressions via the use of operators to manipulate data."
   ]
  },
  {
   "cell_type": "markdown",
   "metadata": {
    "id": "56v-ZMYFZElV"
   },
   "source": [
    "\n",
    "## Operators\n",
    "\n",
    ">An operator is a symbol that *operates* on one or more values, i.e. it is a symbol that represents an action or process.\n",
    "\n",
    "### Assignment Operator\n",
    "\n",
    "In order to process data, we typically need to store it in computer memory. This is done via the use of variables. You might be familiar with variables given their use in mathematics. However, variables in mathematics and computing are different.\n",
    "\n",
    "> **Definition**\n",
    ">\n",
    "> In computing, a *variable* corresponds to an identifier that references a unit of data in computer memory.\n",
    "\n",
    "In other words, a **variable** represents an entity which holds a **value**.\n",
    "\n",
    "In order to define a variable, we must utilise the **assignment statement**. Variables must be **initialised** (i.e. assigned with a value) before use.\n",
    "\n",
    "To understand how assignment and variables work, let us refer to the following example:\n",
    "\n",
    ">```python\n",
    "># x is the variable, 100 is the data, ← is the assignment operator\n",
    "># and the whole line below is the assignment statement\n",
    ">x ← 100\n",
    ">```\n",
    "\n",
    "The above is a typical assignment statement. We are specifying a variable, i.e., an identifier `x`, which will reference some part of the computer’s memory, and in that segment of computer memory, store the integer value `100`.\n",
    "\n",
    "Essentially, the assignment statement does 3 things:\n",
    "\n",
    "1. Stores the variable identifier in an identifier table\n",
    "2. Allocates computer memory for the storage of the data type value specified; the memory allocated will correspond to some specific location in memory - i.e., a memory address\n",
    "3. Links the variable identifier to the computer memory location\n",
    "\n",
    "In this manner, whenever the variable is used, the computer knows that we are referring to the value that is stored in the associated location in computer memory.\n",
    "\n",
    "Assignment also allows programmers to:\n",
    "\n",
    "1. Assign new values to a variable\n",
    "2. Copy variable values\n",
    "3. Swap values between variables\n",
    "\n",
    "It should also be noted that when assigning a value, that value may be computed using expressions consisting of arithmetic, logical, comparison and/or string operations. For example:\n",
    "\n",
    ">```python\n",
    ">x ← 10 + 20\n",
    ">```\n",
    "\n",
    "Such expressions can, and or course, often do include the specification of other variables. For example:\n",
    "\n",
    ">```python\n",
    ">result ← a*x**2 + b*x + c\n",
    ">```\n",
    "\n",
    "In Python, the assignment operator is `=` , which should not be confused with the equal sign $=$ from mathematics.\n",
    "\n",
    "The way to write assignment statement in Python\n",
    "\n",
    "```python\n",
    "var = assigned_value\n",
    "```\n",
    "\n",
    "for assigning the value of the right-hand-side `assigned_value` to left-hand-side variable `var`.\n",
    "\n",
    "#### Hands On Activity\n",
    "\n",
    "Run each of the code cells below and observe the outputs produced."
   ]
  },
  {
   "cell_type": "code",
   "execution_count": null,
   "metadata": {
    "id": "JM6neYLXZElW",
    "outputId": "f4455c46-3ac3-4e98-9e44-5e77d0292338"
   },
   "outputs": [
    {
     "name": "stdout",
     "output_type": "stream",
     "text": [
      "2\n",
      "3\n"
     ]
    }
   ],
   "source": [
    "x = 2\n",
    "print(x)\n",
    "\n",
    "# The value x at this point is 2\n",
    "# So, x + 1 is 3\n",
    "# The assignment below evaluates the rhs first before assigning it to the variable x on lhs\n",
    "x = x + 1\n",
    "print(x)"
   ]
  },
  {
   "cell_type": "code",
   "execution_count": null,
   "metadata": {
    "colab": {
     "base_uri": "https://localhost:8080/"
    },
    "executionInfo": {
     "elapsed": 1181,
     "status": "ok",
     "timestamp": 1735999342203,
     "user": {
      "displayName": "Tee Ti",
      "userId": "01570049436197552602"
     },
     "user_tz": -480
    },
    "id": "ZjehXkhXZElX",
    "outputId": "bf65cd87-0870-4263-a25b-113d926fa267"
   },
   "outputs": [
    {
     "name": "stdout",
     "output_type": "stream",
     "text": [
      "Mr Kwek\n",
      "Mr Kwek\n"
     ]
    }
   ],
   "source": [
    "teacher1 = \"Mr Tan\"\n",
    "teacher2 = \"Mr Kwek\"\n",
    "\n",
    "teacher1 = teacher2\n",
    "teacher2 = teacher1\n",
    "\n",
    "print(teacher1)\n",
    "print(teacher2)"
   ]
  },
  {
   "cell_type": "markdown",
   "metadata": {
    "id": "7gIpVM1dZElY"
   },
   "source": [
    "#### Hands On Activity\n",
    "Write a program that takes in 3 inputs and assign them to variables named `a`, `b`, `c`."
   ]
  },
  {
   "cell_type": "code",
   "execution_count": null,
   "metadata": {
    "colab": {
     "base_uri": "https://localhost:8080/"
    },
    "executionInfo": {
     "elapsed": 7106,
     "status": "ok",
     "timestamp": 1735999473282,
     "user": {
      "displayName": "Tee Ti",
      "userId": "01570049436197552602"
     },
     "user_tz": -480
    },
    "id": "Bcd3Hnr1ZElY",
    "outputId": "01c346a6-78c7-43bf-d91a-6cc4ba4b70ec"
   },
   "outputs": [
    {
     "name": "stdout",
     "output_type": "stream",
     "text": [
      "key your input for a2\n",
      "key your input for b3\n",
      "key your input for c4\n"
     ]
    }
   ],
   "source": [
    "# YOUR_CODE_HERE\n",
    "\n",
    "a=input(\"key your input for a\")\n",
    "b=input(\"key your input for b\")\n",
    "c=input(\"key your input for c\")\n"
   ]
  },
  {
   "cell_type": "markdown",
   "metadata": {
    "id": "keCx9SJ9ZElZ"
   },
   "source": [
    "To prevent conflict and to keep consistency between programs, programming languages normally has some naming conventions for the variables, please check [https://www.python.org/dev/peps/pep-0008/#naming-conventions](https://www.python.org/dev/peps/pep-0008/) for updated style guide for python. For example, never use the characters `l` (lowercase letter el), `O` (uppercase letter oh), or `I` (uppercase letter eye) as single character variable names. In some fonts, these characters are indistinguishable from the numerals one and zero. When tempted to use `l`, use `L` instead.\n",
    "\n",
    "Legal variable names of a variable in Python :\n",
    "- Cannot begin with a digit\n",
    "- Cannot include operator symbols\n",
    "- Cannot be reserved words (e.g., `or`, `and`, `not`, `in`, `is`, `def`, `return`, `pass`, `break`, `continue`)\n",
    "- Should not be built-in function names (e.g., `print`, `input`, `range`, `len`, `min`, `max`, `int`, `str`)\n",
    "\n",
    "\n",
    "### Arithmetic Operations\n",
    "\n",
    "An arithmetic operator is an operator that work on numeric data types. The typical operations that may be performed on numbers include:\n",
    "\n",
    "<center>\n",
    "\n",
    "No|     Operation    | Symbol |\n",
    ":-:|:----------------:|:------:|\n",
    "1|     Addition     |    `+`   |\n",
    "2|    Subtraction   |    `-`   |\n",
    "3|  Multiplication  |    `*`   |\n",
    "4|     Division     |    `/`   |\n",
    "5| Integer Division |   `//`   |\n",
    "6|      Modulo      |    `%`   |\n",
    "7|      Power      |   `**`   |\n",
    "\n",
    "</center>\n",
    "\n",
    "The first four operations are the same as their counter parts in mathematics.\n",
    "\n",
    "When used between 2 integers, `a` and `b`, the integer division `//` and modulo `%` is written as `a // b` and `a % b`. `a // b` gives the quotient when `a` is divided by `b` and `a % b` gives the remainder when `a` is divided by `b`.\n",
    "\n",
    "The notation for exponentiation in Python is double asterisk `**` as the caret `^` is reserved for another operation.\n",
    "\n",
    "#### Hands On Activity\n",
    "Write a program to try the arithmetic operations above with the following pairs `(15,10)`, `(3,4)`, `(124,20)`. For each pair:\n",
    "- assign the result of the operations to a variable\n",
    "- print the variable"
   ]
  },
  {
   "cell_type": "code",
   "execution_count": null,
   "metadata": {
    "colab": {
     "base_uri": "https://localhost:8080/"
    },
    "executionInfo": {
     "elapsed": 266,
     "status": "ok",
     "timestamp": 1735999596601,
     "user": {
      "displayName": "Tee Ti",
      "userId": "01570049436197552602"
     },
     "user_tz": -480
    },
    "id": "IWi36rD-ZElZ",
    "outputId": "76ab6f86-ddfd-4b97-960c-b83a90475f85"
   },
   "outputs": [
    {
     "name": "stdout",
     "output_type": "stream",
     "text": [
      "0\n"
     ]
    }
   ],
   "source": [
    "# YOUR_CODE_HERE\n",
    "\n",
    "a=3//4\n",
    "\n",
    "\n",
    "print(a)"
   ]
  },
  {
   "cell_type": "markdown",
   "metadata": {
    "id": "FAwv167aZEla"
   },
   "source": [
    "## Logical and Comparison Operations\n",
    "\n",
    "There are several Boolean or logical operations. Among the most common are the following:\n",
    "\n",
    "<center>\n",
    "\n",
    "| Operation   | Symbol |\n",
    "|:-------------:|:--------:|\n",
    "| Logical AND | `and`    |\n",
    "| Logical OR  | `or`     |\n",
    "| Logical NOT | `not`    |\n",
    "\n",
    "</center>\n",
    "\n",
    "Each logical operation is associated with a truth table, which defines all possible pairs of operand values, and the corresponding resultant value that is attained when the operator in question is applied to the given operands. The truth table for the above logical operations are as follows.\n",
    "\n",
    "<center>\n",
    "\n",
    "| `x`     | `y`     | `x and y` | `x or y` | `not x` |\n",
    "|-------|-------|---------|--------|-------|\n",
    "| `True`  | `True`  | `True`    | `True`   | `False` |\n",
    "| `True`  | `False` | `False`   | `True`   | `False` |\n",
    "| `False` | `True`  | `False`  | `True`   | `True`  |\n",
    "| `False` | `False` | `False`   | `False`  | `True`  |\n",
    "\n",
    "</center>\n",
    "\n",
    "Note that:\n",
    "> 1. The result is `True` if both `x` and `y` are `True`, or else, the result is `False`.\n",
    "> 2. The result is `True` if `x` is `True` or `y` is `True`, or else, the result is `False`.\n",
    "> 3. The result is the opposite of the Boolean value of `x`.\n",
    "\n",
    "Additionally, there are several comparison operations that do not require Boolean operands, but have a Boolean value result:\n",
    "\n",
    "<center>\n",
    "\n",
    "|     Operation    | Symbol |\n",
    "|:----------------:|:------:|\n",
    "|     Less Than     |    `<`   |\n",
    "|    Less Than or Equals   |    `<=`   |\n",
    "|  Equality  |    `==`   |\n",
    "|     Greater Than     |    `>`   |\n",
    "| Greater Than or Equals |   `>=`   |\n",
    "|     Not Equals    |    `!=`   |\n",
    "\n",
    "</center>\n",
    "\n",
    "As with the arithmetic and logical operations, the above comparison operations take 2 operands, evaluate the associated test, and then have Boolean result. For example, `10 < 5` will result in `False`, since 10 is actually greater than 5, not less; `“abc” == “cba”` will result in `False`, since the 2 strings are not equivalent.\n",
    "\n",
    "Strings can also be compared with the comparison operators `<, >, <=, >=` which will give a Boolean value based on dictionary/lexicographic ordering. E.g. `'a' < 'b'` will evaluate to `True`, while `'c' < 'a'` will evaluate to `False`.\n",
    "\n",
    "#### Hands On Activity\n",
    "\n",
    "It is important to know the type of the value that a variable refers to – e.g., this would allow us to use the correct operators. Python automatically infers the type from the value you assign to a variable. Write down the type of the values stored in each of the variables below. Pay special attention to punctuation: values are not always the type they seem!\n",
    "\n",
    "1. `a = False`\n",
    "2. `b = 3.7`\n",
    "3. `c = 'Alex'`\n",
    "4. `d = 7`\n",
    "5. `e = 'True'`\n",
    "6. `f = 12 ** 3`\n",
    "7. `g = '17'`\n",
    "8. `h = True`\n",
    "9. `i = '3.14159'`\n",
    "10. `j = 12 / 27`\n",
    "11. `k = 2.0 / 1`\n",
    "12. `l = (5 == \"5\")`\n",
    "\n",
    "To verify your answers, you can use the `type` function in interactive Python shell (as shown below). However, first try to do the exercise without the help of the shell.\n",
    "\n",
    ">```python\n",
    ">>>> x = 100\n",
    ">>>> type(x)\n",
    "><type 'int'>\n",
    ">>>>\n",
    ">```"
   ]
  },
  {
   "cell_type": "code",
   "execution_count": null,
   "metadata": {
    "colab": {
     "base_uri": "https://localhost:8080/"
    },
    "executionInfo": {
     "elapsed": 269,
     "status": "ok",
     "timestamp": 1735999782167,
     "user": {
      "displayName": "Tee Ti",
      "userId": "01570049436197552602"
     },
     "user_tz": -480
    },
    "id": "9MkhUH3fZElb",
    "outputId": "db1046d3-90ed-48eb-98e1-35bcad264ce9"
   },
   "outputs": [
    {
     "name": "stdout",
     "output_type": "stream",
     "text": [
      "<class 'bool'>\n"
     ]
    }
   ],
   "source": [
    "# YOUR_CODE_HERE\n",
    "\n",
    "x=True\n",
    "\n",
    "print(type(x))"
   ]
  },
  {
   "cell_type": "markdown",
   "metadata": {
    "id": "WNZZL2zcZElb"
   },
   "source": [
    "# Commonly Encountered Errors and Debugging\n",
    "Errors in Python come in various forms, each indicating a different kind of problem in your code. Encountering errors is part and parcel of programming and the important thing is knowing how to correct the program to avoid the errors. This process of correction is termed **debugging**\n",
    "\n",
    "## Syntax Error\n",
    "Syntax errors occur when the code violates Python's grammar rules, making it impossible for the interpreter to understand the code. For instance, forgetting a colon in a function definition\n",
    "\n",
    "```python\n",
    "def func()\n",
    "    print(\"Hello\")\n",
    "```\n",
    "\n",
    "or mismatching parentheses\n",
    "\n",
    "```python\n",
    "(5 + 3) - (6))\n",
    "```\n",
    "\n",
    "can trigger a syntax error. These errors are typically caught during the initial parsing phase, and Python provides clear feedback on what and where the issue is, making them relatively easy to fix."
   ]
  },
  {
   "cell_type": "code",
   "execution_count": null,
   "metadata": {
    "id": "frqsYz1eZElc"
   },
   "outputs": [],
   "source": [
    "def func():\n",
    "    print(\"Hello\")"
   ]
  },
  {
   "cell_type": "code",
   "execution_count": null,
   "metadata": {
    "colab": {
     "base_uri": "https://localhost:8080/",
     "height": 109
    },
    "executionInfo": {
     "elapsed": 288,
     "status": "error",
     "timestamp": 1735999817930,
     "user": {
      "displayName": "Tee Ti",
      "userId": "01570049436197552602"
     },
     "user_tz": -480
    },
    "id": "trSK1fZFZElc",
    "outputId": "e610bad4-a505-48bb-9a07-57f562ecb14a"
   },
   "outputs": [
    {
     "ename": "SyntaxError",
     "evalue": "unmatched ')' (<ipython-input-10-0b826ab9e265>, line 1)",
     "output_type": "error",
     "traceback": [
      "\u001b[0;36m  File \u001b[0;32m\"<ipython-input-10-0b826ab9e265>\"\u001b[0;36m, line \u001b[0;32m1\u001b[0m\n\u001b[0;31m    (5 + 3) - (6))\u001b[0m\n\u001b[0m                 ^\u001b[0m\n\u001b[0;31mSyntaxError\u001b[0m\u001b[0;31m:\u001b[0m unmatched ')'\n"
     ]
    }
   ],
   "source": [
    "(5 + 3) - (6))"
   ]
  },
  {
   "cell_type": "markdown",
   "metadata": {
    "id": "2-ytFkI4ZElc"
   },
   "source": [
    "## Type Error\n",
    "Type errors, on the other hand, arise when an operation is applied to an incompatible data type. For example, trying to add a string to an integer\n",
    "\n",
    "```python\n",
    "\"3\" + 5\n",
    "```\n",
    "\n",
    "will raise a TypeError because Python doesn't know how to combine these types. Type errors often happen when you mix data types without proper typecasting, such as trying to divide a list by a number or calling a function with the wrong data type as an argument.\n",
    "\n",
    "This is akin to trying to use mathematical function with elements not found in the domain of the function.\n",
    "\n",
    "\n",
    "## Logical Error\n",
    "Logical errors are trickier because they don't stop your program from running but produce incorrect results. These errors occur when your code does something unintended due to a flaw in your logic. For example, using the wrong formula to calculate the area of a circle `area = 2 * pi * r` instead of `area = pi * r ** 2` will not raise an error but will yield the wrong answer. Debugging logical errors requires careful analysis of your code, often using tools like `print()` statements, logging, or debugging environments to trace the flow of execution and verify intermediate results.\n",
    "\n",
    "While syntax and type errors are easier to identify and fix due to Python's helpful error messages, logical errors demand a deeper understanding of your program's intent and logic. Knowing how to address each error type ensures smoother programming and fewer bugs in your code."
   ]
  }
 ],
 "metadata": {
  "colab": {
   "provenance": []
  },
  "kernelspec": {
   "display_name": "Python 3",
   "language": "python",
   "name": "python3"
  },
  "language_info": {
   "codemirror_mode": {
    "name": "ipython",
    "version": 3
   },
   "file_extension": ".py",
   "mimetype": "text/x-python",
   "name": "python",
   "nbconvert_exporter": "python",
   "pygments_lexer": "ipython3",
   "version": "3.12.1"
  }
 },
 "nbformat": 4,
 "nbformat_minor": 0
}
